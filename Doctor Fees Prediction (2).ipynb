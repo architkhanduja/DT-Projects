{
 "cells": [
  {
   "cell_type": "code",
   "execution_count": 140,
   "metadata": {},
   "outputs": [],
   "source": [
    "#Importing the important Libraries\n",
    "import numpy as np\n",
    "import pandas as pd\n",
    "import matplotlib.pyplot as plt   \n",
    "import matplotlib.style\n",
    "plt.style.use('ggplot')\n",
    "import seaborn as sns\n",
    "import warnings\n",
    "warnings.filterwarnings('ignore')"
   ]
  },
  {
   "cell_type": "code",
   "execution_count": 141,
   "metadata": {},
   "outputs": [],
   "source": [
    "#Loading train and test dataset\n",
    "df_train=pd.read_excel(\"Final_Train.xlsx\")\n",
    "df_test=pd.read_excel(\"Final_Test.xlsx\")"
   ]
  },
  {
   "cell_type": "code",
   "execution_count": 142,
   "metadata": {},
   "outputs": [],
   "source": [
    "#Displaying all the columns\n",
    "pd.set_option('display.max_columns',None)\n"
   ]
  },
  {
   "cell_type": "code",
   "execution_count": 143,
   "metadata": {},
   "outputs": [
    {
     "data": {
      "text/html": [
       "<div>\n",
       "<style scoped>\n",
       "    .dataframe tbody tr th:only-of-type {\n",
       "        vertical-align: middle;\n",
       "    }\n",
       "\n",
       "    .dataframe tbody tr th {\n",
       "        vertical-align: top;\n",
       "    }\n",
       "\n",
       "    .dataframe thead th {\n",
       "        text-align: right;\n",
       "    }\n",
       "</style>\n",
       "<table border=\"1\" class=\"dataframe\">\n",
       "  <thead>\n",
       "    <tr style=\"text-align: right;\">\n",
       "      <th></th>\n",
       "      <th>Qualification</th>\n",
       "      <th>Experience</th>\n",
       "      <th>Rating</th>\n",
       "      <th>Place</th>\n",
       "      <th>Profile</th>\n",
       "      <th>Miscellaneous_Info</th>\n",
       "      <th>Fees</th>\n",
       "    </tr>\n",
       "  </thead>\n",
       "  <tbody>\n",
       "    <tr>\n",
       "      <th>0</th>\n",
       "      <td>BHMS, MD - Homeopathy</td>\n",
       "      <td>24 years experience</td>\n",
       "      <td>100%</td>\n",
       "      <td>Kakkanad, Ernakulam</td>\n",
       "      <td>Homeopath</td>\n",
       "      <td>100% 16 Feedback Kakkanad, Ernakulam</td>\n",
       "      <td>100</td>\n",
       "    </tr>\n",
       "    <tr>\n",
       "      <th>1</th>\n",
       "      <td>BAMS, MD - Ayurveda Medicine</td>\n",
       "      <td>12 years experience</td>\n",
       "      <td>98%</td>\n",
       "      <td>Whitefield, Bangalore</td>\n",
       "      <td>Ayurveda</td>\n",
       "      <td>98% 76 Feedback Whitefield, Bangalore</td>\n",
       "      <td>350</td>\n",
       "    </tr>\n",
       "    <tr>\n",
       "      <th>2</th>\n",
       "      <td>MBBS, MS - Otorhinolaryngology</td>\n",
       "      <td>9 years experience</td>\n",
       "      <td>NaN</td>\n",
       "      <td>Mathikere - BEL, Bangalore</td>\n",
       "      <td>ENT Specialist</td>\n",
       "      <td>NaN</td>\n",
       "      <td>300</td>\n",
       "    </tr>\n",
       "    <tr>\n",
       "      <th>3</th>\n",
       "      <td>BSc - Zoology, BAMS</td>\n",
       "      <td>12 years experience</td>\n",
       "      <td>NaN</td>\n",
       "      <td>Bannerghatta Road, Bangalore</td>\n",
       "      <td>Ayurveda</td>\n",
       "      <td>Bannerghatta Road, Bangalore ₹250 Available on...</td>\n",
       "      <td>250</td>\n",
       "    </tr>\n",
       "    <tr>\n",
       "      <th>4</th>\n",
       "      <td>BAMS</td>\n",
       "      <td>20 years experience</td>\n",
       "      <td>100%</td>\n",
       "      <td>Keelkattalai, Chennai</td>\n",
       "      <td>Ayurveda</td>\n",
       "      <td>100% 4 Feedback Keelkattalai, Chennai</td>\n",
       "      <td>250</td>\n",
       "    </tr>\n",
       "  </tbody>\n",
       "</table>\n",
       "</div>"
      ],
      "text/plain": [
       "                    Qualification           Experience Rating  \\\n",
       "0           BHMS, MD - Homeopathy  24 years experience   100%   \n",
       "1    BAMS, MD - Ayurveda Medicine  12 years experience    98%   \n",
       "2  MBBS, MS - Otorhinolaryngology   9 years experience    NaN   \n",
       "3             BSc - Zoology, BAMS  12 years experience    NaN   \n",
       "4                            BAMS  20 years experience   100%   \n",
       "\n",
       "                          Place         Profile  \\\n",
       "0           Kakkanad, Ernakulam       Homeopath   \n",
       "1         Whitefield, Bangalore        Ayurveda   \n",
       "2    Mathikere - BEL, Bangalore  ENT Specialist   \n",
       "3  Bannerghatta Road, Bangalore        Ayurveda   \n",
       "4         Keelkattalai, Chennai        Ayurveda   \n",
       "\n",
       "                                  Miscellaneous_Info  Fees  \n",
       "0               100% 16 Feedback Kakkanad, Ernakulam   100  \n",
       "1              98% 76 Feedback Whitefield, Bangalore   350  \n",
       "2                                                NaN   300  \n",
       "3  Bannerghatta Road, Bangalore ₹250 Available on...   250  \n",
       "4              100% 4 Feedback Keelkattalai, Chennai   250  "
      ]
     },
     "execution_count": 143,
     "metadata": {},
     "output_type": "execute_result"
    }
   ],
   "source": [
    "#Seeing the first 5 rows of training data\n",
    "df_train.head()"
   ]
  },
  {
   "cell_type": "code",
   "execution_count": 144,
   "metadata": {},
   "outputs": [
    {
     "data": {
      "text/plain": [
       "((5961, 7), (1987, 6))"
      ]
     },
     "execution_count": 144,
     "metadata": {},
     "output_type": "execute_result"
    }
   ],
   "source": [
    "# Check shape of dataset\n",
    "\n",
    "df_train.shape, df_test.shape"
   ]
  },
  {
   "cell_type": "code",
   "execution_count": 145,
   "metadata": {},
   "outputs": [
    {
     "data": {
      "text/html": [
       "<div>\n",
       "<style scoped>\n",
       "    .dataframe tbody tr th:only-of-type {\n",
       "        vertical-align: middle;\n",
       "    }\n",
       "\n",
       "    .dataframe tbody tr th {\n",
       "        vertical-align: top;\n",
       "    }\n",
       "\n",
       "    .dataframe thead th {\n",
       "        text-align: right;\n",
       "    }\n",
       "</style>\n",
       "<table border=\"1\" class=\"dataframe\">\n",
       "  <thead>\n",
       "    <tr style=\"text-align: right;\">\n",
       "      <th></th>\n",
       "      <th>Column Type</th>\n",
       "      <th>Count</th>\n",
       "    </tr>\n",
       "  </thead>\n",
       "  <tbody>\n",
       "    <tr>\n",
       "      <th>0</th>\n",
       "      <td>object</td>\n",
       "      <td>6</td>\n",
       "    </tr>\n",
       "  </tbody>\n",
       "</table>\n",
       "</div>"
      ],
      "text/plain": [
       "  Column Type  Count\n",
       "0      object      6"
      ]
     },
     "execution_count": 145,
     "metadata": {},
     "output_type": "execute_result"
    }
   ],
   "source": [
    "# Check test column types\n",
    "\n",
    "col = df_test.dtypes.reset_index()\n",
    "col.columns = [\"Count\", \"Column Type\"]\n",
    "col.groupby(\"Column Type\").aggregate('count').reset_index()"
   ]
  },
  {
   "cell_type": "markdown",
   "metadata": {},
   "source": [
    "## Train Data"
   ]
  },
  {
   "cell_type": "code",
   "execution_count": 146,
   "metadata": {},
   "outputs": [
    {
     "data": {
      "text/plain": [
       "Index(['Qualification', 'Experience', 'Rating', 'Place', 'Profile',\n",
       "       'Miscellaneous_Info', 'Fees'],\n",
       "      dtype='object')"
      ]
     },
     "execution_count": 146,
     "metadata": {},
     "output_type": "execute_result"
    }
   ],
   "source": [
    "#Checking Train Data Columns\n",
    "df_train.columns"
   ]
  },
  {
   "cell_type": "code",
   "execution_count": 147,
   "metadata": {},
   "outputs": [
    {
     "data": {
      "text/plain": [
       "Qualification            0\n",
       "Experience               0\n",
       "Rating                3302\n",
       "Place                   25\n",
       "Profile                  0\n",
       "Miscellaneous_Info    2620\n",
       "Fees                     0\n",
       "dtype: int64"
      ]
     },
     "execution_count": 147,
     "metadata": {},
     "output_type": "execute_result"
    }
   ],
   "source": [
    "#Checking for NULL values\n",
    "df_train.isnull().sum()"
   ]
  },
  {
   "cell_type": "code",
   "execution_count": 148,
   "metadata": {},
   "outputs": [
    {
     "data": {
      "text/plain": [
       "Qualification          0.00\n",
       "Experience             0.00\n",
       "Rating                55.39\n",
       "Place                  0.42\n",
       "Profile                0.00\n",
       "Miscellaneous_Info    43.95\n",
       "Fees                   0.00\n",
       "dtype: float64"
      ]
     },
     "execution_count": 148,
     "metadata": {},
     "output_type": "execute_result"
    }
   ],
   "source": [
    "#Let's check the percentage of NULL Values\n",
    "round(df_train.isnull().sum()/len(df_train)*100,2)"
   ]
  },
  {
   "cell_type": "code",
   "execution_count": 149,
   "metadata": {},
   "outputs": [],
   "source": [
    "#Miscellaneous_Info is having a very high percentage of missing values. We can drop the column as imputing makes no sense here\n",
    "df_train.drop(\"Miscellaneous_Info\",axis=1,inplace=True)"
   ]
  },
  {
   "cell_type": "markdown",
   "metadata": {},
   "source": [
    "**Now, another thing to consider here is rating. This can be an important deciding variable. Nowadays, we are using apps like Practo and 1mg for online consultation of Doctors. There also, we see a lot of listings where the ratings are absent. We can categorise ratings from 0 to 10 and place the missing values in 0 rating. Similarly, 90-100% will have 10 rating, 80-89 will have 9 rating and so on.**"
   ]
  },
  {
   "cell_type": "code",
   "execution_count": 150,
   "metadata": {},
   "outputs": [],
   "source": [
    "#Let us first convert rating into integer\n",
    "df_train['Rating'].fillna('-1%', inplace=True)"
   ]
  },
  {
   "cell_type": "code",
   "execution_count": 151,
   "metadata": {},
   "outputs": [
    {
     "data": {
      "text/plain": [
       "Qualification     0\n",
       "Experience        0\n",
       "Rating            0\n",
       "Place            25\n",
       "Profile           0\n",
       "Fees              0\n",
       "dtype: int64"
      ]
     },
     "execution_count": 151,
     "metadata": {},
     "output_type": "execute_result"
    }
   ],
   "source": [
    "df_train.isnull().sum()"
   ]
  },
  {
   "cell_type": "code",
   "execution_count": 152,
   "metadata": {},
   "outputs": [],
   "source": [
    "#Removing the % symbol \n",
    "df_train['Rating']=df_train['Rating'].str.replace('[^.\\d]','')"
   ]
  },
  {
   "cell_type": "code",
   "execution_count": 153,
   "metadata": {},
   "outputs": [
    {
     "data": {
      "text/html": [
       "<div>\n",
       "<style scoped>\n",
       "    .dataframe tbody tr th:only-of-type {\n",
       "        vertical-align: middle;\n",
       "    }\n",
       "\n",
       "    .dataframe tbody tr th {\n",
       "        vertical-align: top;\n",
       "    }\n",
       "\n",
       "    .dataframe thead th {\n",
       "        text-align: right;\n",
       "    }\n",
       "</style>\n",
       "<table border=\"1\" class=\"dataframe\">\n",
       "  <thead>\n",
       "    <tr style=\"text-align: right;\">\n",
       "      <th></th>\n",
       "      <th>Qualification</th>\n",
       "      <th>Experience</th>\n",
       "      <th>Rating</th>\n",
       "      <th>Place</th>\n",
       "      <th>Profile</th>\n",
       "      <th>Fees</th>\n",
       "    </tr>\n",
       "  </thead>\n",
       "  <tbody>\n",
       "    <tr>\n",
       "      <th>0</th>\n",
       "      <td>BHMS, MD - Homeopathy</td>\n",
       "      <td>24 years experience</td>\n",
       "      <td>100</td>\n",
       "      <td>Kakkanad, Ernakulam</td>\n",
       "      <td>Homeopath</td>\n",
       "      <td>100</td>\n",
       "    </tr>\n",
       "    <tr>\n",
       "      <th>1</th>\n",
       "      <td>BAMS, MD - Ayurveda Medicine</td>\n",
       "      <td>12 years experience</td>\n",
       "      <td>98</td>\n",
       "      <td>Whitefield, Bangalore</td>\n",
       "      <td>Ayurveda</td>\n",
       "      <td>350</td>\n",
       "    </tr>\n",
       "    <tr>\n",
       "      <th>2</th>\n",
       "      <td>MBBS, MS - Otorhinolaryngology</td>\n",
       "      <td>9 years experience</td>\n",
       "      <td>1</td>\n",
       "      <td>Mathikere - BEL, Bangalore</td>\n",
       "      <td>ENT Specialist</td>\n",
       "      <td>300</td>\n",
       "    </tr>\n",
       "    <tr>\n",
       "      <th>3</th>\n",
       "      <td>BSc - Zoology, BAMS</td>\n",
       "      <td>12 years experience</td>\n",
       "      <td>1</td>\n",
       "      <td>Bannerghatta Road, Bangalore</td>\n",
       "      <td>Ayurveda</td>\n",
       "      <td>250</td>\n",
       "    </tr>\n",
       "    <tr>\n",
       "      <th>4</th>\n",
       "      <td>BAMS</td>\n",
       "      <td>20 years experience</td>\n",
       "      <td>100</td>\n",
       "      <td>Keelkattalai, Chennai</td>\n",
       "      <td>Ayurveda</td>\n",
       "      <td>250</td>\n",
       "    </tr>\n",
       "  </tbody>\n",
       "</table>\n",
       "</div>"
      ],
      "text/plain": [
       "                    Qualification           Experience Rating  \\\n",
       "0           BHMS, MD - Homeopathy  24 years experience    100   \n",
       "1    BAMS, MD - Ayurveda Medicine  12 years experience     98   \n",
       "2  MBBS, MS - Otorhinolaryngology   9 years experience      1   \n",
       "3             BSc - Zoology, BAMS  12 years experience      1   \n",
       "4                            BAMS  20 years experience    100   \n",
       "\n",
       "                          Place         Profile  Fees  \n",
       "0           Kakkanad, Ernakulam       Homeopath   100  \n",
       "1         Whitefield, Bangalore        Ayurveda   350  \n",
       "2    Mathikere - BEL, Bangalore  ENT Specialist   300  \n",
       "3  Bannerghatta Road, Bangalore        Ayurveda   250  \n",
       "4         Keelkattalai, Chennai        Ayurveda   250  "
      ]
     },
     "execution_count": 153,
     "metadata": {},
     "output_type": "execute_result"
    }
   ],
   "source": [
    "df_train.head()"
   ]
  },
  {
   "cell_type": "code",
   "execution_count": 154,
   "metadata": {},
   "outputs": [],
   "source": [
    "#Converting into int and creating bins in various categories\n",
    "df_train['Rating']=df_train['Rating'].astype(int)\n",
    "bins = [-5,0,10,20,30,40,50,60,70,80,90,100]\n",
    "labels = [i for i in range(11)]\n",
    "df_train[\"Rating\"] = pd.cut(df_train[\"Rating\"],bins=bins,labels=labels,include_lowest=True)"
   ]
  },
  {
   "cell_type": "code",
   "execution_count": 155,
   "metadata": {},
   "outputs": [],
   "source": [
    "#Now, we need to cure the experience column as well and need to have only the years over there\n",
    "df_train['Experience']=df_train['Experience'].str.replace('[^.\\d]','')\n",
    "df_train['Experience']=df_train['Experience'].astype(int)"
   ]
  },
  {
   "cell_type": "code",
   "execution_count": 156,
   "metadata": {},
   "outputs": [
    {
     "data": {
      "text/html": [
       "<div>\n",
       "<style scoped>\n",
       "    .dataframe tbody tr th:only-of-type {\n",
       "        vertical-align: middle;\n",
       "    }\n",
       "\n",
       "    .dataframe tbody tr th {\n",
       "        vertical-align: top;\n",
       "    }\n",
       "\n",
       "    .dataframe thead th {\n",
       "        text-align: right;\n",
       "    }\n",
       "</style>\n",
       "<table border=\"1\" class=\"dataframe\">\n",
       "  <thead>\n",
       "    <tr style=\"text-align: right;\">\n",
       "      <th></th>\n",
       "      <th>Qualification</th>\n",
       "      <th>Experience</th>\n",
       "      <th>Rating</th>\n",
       "      <th>Place</th>\n",
       "      <th>Profile</th>\n",
       "      <th>Fees</th>\n",
       "    </tr>\n",
       "  </thead>\n",
       "  <tbody>\n",
       "    <tr>\n",
       "      <th>0</th>\n",
       "      <td>BHMS, MD - Homeopathy</td>\n",
       "      <td>24</td>\n",
       "      <td>10</td>\n",
       "      <td>Kakkanad, Ernakulam</td>\n",
       "      <td>Homeopath</td>\n",
       "      <td>100</td>\n",
       "    </tr>\n",
       "    <tr>\n",
       "      <th>1</th>\n",
       "      <td>BAMS, MD - Ayurveda Medicine</td>\n",
       "      <td>12</td>\n",
       "      <td>10</td>\n",
       "      <td>Whitefield, Bangalore</td>\n",
       "      <td>Ayurveda</td>\n",
       "      <td>350</td>\n",
       "    </tr>\n",
       "    <tr>\n",
       "      <th>2</th>\n",
       "      <td>MBBS, MS - Otorhinolaryngology</td>\n",
       "      <td>9</td>\n",
       "      <td>1</td>\n",
       "      <td>Mathikere - BEL, Bangalore</td>\n",
       "      <td>ENT Specialist</td>\n",
       "      <td>300</td>\n",
       "    </tr>\n",
       "    <tr>\n",
       "      <th>3</th>\n",
       "      <td>BSc - Zoology, BAMS</td>\n",
       "      <td>12</td>\n",
       "      <td>1</td>\n",
       "      <td>Bannerghatta Road, Bangalore</td>\n",
       "      <td>Ayurveda</td>\n",
       "      <td>250</td>\n",
       "    </tr>\n",
       "    <tr>\n",
       "      <th>4</th>\n",
       "      <td>BAMS</td>\n",
       "      <td>20</td>\n",
       "      <td>10</td>\n",
       "      <td>Keelkattalai, Chennai</td>\n",
       "      <td>Ayurveda</td>\n",
       "      <td>250</td>\n",
       "    </tr>\n",
       "  </tbody>\n",
       "</table>\n",
       "</div>"
      ],
      "text/plain": [
       "                    Qualification  Experience Rating  \\\n",
       "0           BHMS, MD - Homeopathy          24     10   \n",
       "1    BAMS, MD - Ayurveda Medicine          12     10   \n",
       "2  MBBS, MS - Otorhinolaryngology           9      1   \n",
       "3             BSc - Zoology, BAMS          12      1   \n",
       "4                            BAMS          20     10   \n",
       "\n",
       "                          Place         Profile  Fees  \n",
       "0           Kakkanad, Ernakulam       Homeopath   100  \n",
       "1         Whitefield, Bangalore        Ayurveda   350  \n",
       "2    Mathikere - BEL, Bangalore  ENT Specialist   300  \n",
       "3  Bannerghatta Road, Bangalore        Ayurveda   250  \n",
       "4         Keelkattalai, Chennai        Ayurveda   250  "
      ]
     },
     "execution_count": 156,
     "metadata": {},
     "output_type": "execute_result"
    }
   ],
   "source": [
    "df_train.head()"
   ]
  },
  {
   "cell_type": "code",
   "execution_count": 157,
   "metadata": {},
   "outputs": [],
   "source": [
    "#Let's impute the missing values of Place feature with 'NA'\n",
    "df_train[\"Place\"].fillna(\"NA,NA\",inplace=True)"
   ]
  },
  {
   "cell_type": "code",
   "execution_count": 158,
   "metadata": {},
   "outputs": [],
   "source": [
    "#Now, let's seperate the city with the place\n",
    "df_train[\"Place\"] = df_train[\"Place\"].str.split(\",\")\n",
    "df_train[\"City\"] = df_train[\"Place\"].str[-1]\n",
    "df_train[\"Place\"] = df_train[\"Place\"].str[0]"
   ]
  },
  {
   "cell_type": "code",
   "execution_count": 159,
   "metadata": {},
   "outputs": [
    {
     "data": {
      "text/html": [
       "<div>\n",
       "<style scoped>\n",
       "    .dataframe tbody tr th:only-of-type {\n",
       "        vertical-align: middle;\n",
       "    }\n",
       "\n",
       "    .dataframe tbody tr th {\n",
       "        vertical-align: top;\n",
       "    }\n",
       "\n",
       "    .dataframe thead th {\n",
       "        text-align: right;\n",
       "    }\n",
       "</style>\n",
       "<table border=\"1\" class=\"dataframe\">\n",
       "  <thead>\n",
       "    <tr style=\"text-align: right;\">\n",
       "      <th></th>\n",
       "      <th>Qualification</th>\n",
       "      <th>Experience</th>\n",
       "      <th>Rating</th>\n",
       "      <th>Place</th>\n",
       "      <th>Profile</th>\n",
       "      <th>Fees</th>\n",
       "      <th>City</th>\n",
       "    </tr>\n",
       "  </thead>\n",
       "  <tbody>\n",
       "    <tr>\n",
       "      <th>0</th>\n",
       "      <td>BHMS, MD - Homeopathy</td>\n",
       "      <td>24</td>\n",
       "      <td>10</td>\n",
       "      <td>Kakkanad</td>\n",
       "      <td>Homeopath</td>\n",
       "      <td>100</td>\n",
       "      <td>Ernakulam</td>\n",
       "    </tr>\n",
       "    <tr>\n",
       "      <th>1</th>\n",
       "      <td>BAMS, MD - Ayurveda Medicine</td>\n",
       "      <td>12</td>\n",
       "      <td>10</td>\n",
       "      <td>Whitefield</td>\n",
       "      <td>Ayurveda</td>\n",
       "      <td>350</td>\n",
       "      <td>Bangalore</td>\n",
       "    </tr>\n",
       "    <tr>\n",
       "      <th>2</th>\n",
       "      <td>MBBS, MS - Otorhinolaryngology</td>\n",
       "      <td>9</td>\n",
       "      <td>1</td>\n",
       "      <td>Mathikere - BEL</td>\n",
       "      <td>ENT Specialist</td>\n",
       "      <td>300</td>\n",
       "      <td>Bangalore</td>\n",
       "    </tr>\n",
       "    <tr>\n",
       "      <th>3</th>\n",
       "      <td>BSc - Zoology, BAMS</td>\n",
       "      <td>12</td>\n",
       "      <td>1</td>\n",
       "      <td>Bannerghatta Road</td>\n",
       "      <td>Ayurveda</td>\n",
       "      <td>250</td>\n",
       "      <td>Bangalore</td>\n",
       "    </tr>\n",
       "    <tr>\n",
       "      <th>4</th>\n",
       "      <td>BAMS</td>\n",
       "      <td>20</td>\n",
       "      <td>10</td>\n",
       "      <td>Keelkattalai</td>\n",
       "      <td>Ayurveda</td>\n",
       "      <td>250</td>\n",
       "      <td>Chennai</td>\n",
       "    </tr>\n",
       "  </tbody>\n",
       "</table>\n",
       "</div>"
      ],
      "text/plain": [
       "                    Qualification  Experience Rating              Place  \\\n",
       "0           BHMS, MD - Homeopathy          24     10           Kakkanad   \n",
       "1    BAMS, MD - Ayurveda Medicine          12     10         Whitefield   \n",
       "2  MBBS, MS - Otorhinolaryngology           9      1    Mathikere - BEL   \n",
       "3             BSc - Zoology, BAMS          12      1  Bannerghatta Road   \n",
       "4                            BAMS          20     10       Keelkattalai   \n",
       "\n",
       "          Profile  Fees        City  \n",
       "0       Homeopath   100   Ernakulam  \n",
       "1        Ayurveda   350   Bangalore  \n",
       "2  ENT Specialist   300   Bangalore  \n",
       "3        Ayurveda   250   Bangalore  \n",
       "4        Ayurveda   250     Chennai  "
      ]
     },
     "execution_count": 159,
     "metadata": {},
     "output_type": "execute_result"
    }
   ],
   "source": [
    "df_train.head()"
   ]
  },
  {
   "cell_type": "code",
   "execution_count": 160,
   "metadata": {},
   "outputs": [
    {
     "data": {
      "text/plain": [
       "1420"
      ]
     },
     "execution_count": 160,
     "metadata": {},
     "output_type": "execute_result"
    }
   ],
   "source": [
    "df_train['Qualification'].nunique()"
   ]
  },
  {
   "cell_type": "markdown",
   "metadata": {},
   "source": [
    "**Now, for the qualification column, we can see that there are multiple qualifications for each doctor. We can split these qualifications into different columns**"
   ]
  },
  {
   "cell_type": "code",
   "execution_count": 161,
   "metadata": {},
   "outputs": [],
   "source": [
    "\n",
    "# Extract relevant qualification\n",
    "df_train[\"Qualification\"]=df_train[\"Qualification\"].str.split(\",\")\n",
    "Qualification ={}\n",
    "for q in df_train[\"Qualification\"].values:\n",
    "    for p in q:\n",
    "        p = p.strip()\n",
    "        if p in Qualification:\n",
    "            Qualification[p]+=1\n",
    "        else:\n",
    "            Qualification[p]=1"
   ]
  },
  {
   "cell_type": "code",
   "execution_count": 162,
   "metadata": {},
   "outputs": [],
   "source": [
    "#Extracting top 10 qualifications\n",
    "freq_qual = sorted(Qualification.items(),key=lambda x:x[1],reverse=True)[:10]\n",
    "final_qual =[]\n",
    "for v in freq_qual:\n",
    "    final_qual.append(v[0])\n",
    "for title in final_qual:\n",
    "    df_train[title]=0\n",
    "    \n",
    "for x,y in zip(df_train[\"Qualification\"].values,np.array([idx for idx in range(len(df_train))])):\n",
    "    for q in x:\n",
    "        q = q.strip()\n",
    "        if q in final_qual:\n",
    "            df_train[q][y] = 1"
   ]
  },
  {
   "cell_type": "code",
   "execution_count": 163,
   "metadata": {},
   "outputs": [
    {
     "data": {
      "text/html": [
       "<div>\n",
       "<style scoped>\n",
       "    .dataframe tbody tr th:only-of-type {\n",
       "        vertical-align: middle;\n",
       "    }\n",
       "\n",
       "    .dataframe tbody tr th {\n",
       "        vertical-align: top;\n",
       "    }\n",
       "\n",
       "    .dataframe thead th {\n",
       "        text-align: right;\n",
       "    }\n",
       "</style>\n",
       "<table border=\"1\" class=\"dataframe\">\n",
       "  <thead>\n",
       "    <tr style=\"text-align: right;\">\n",
       "      <th></th>\n",
       "      <th>Qualification</th>\n",
       "      <th>Experience</th>\n",
       "      <th>Rating</th>\n",
       "      <th>Place</th>\n",
       "      <th>Profile</th>\n",
       "      <th>Fees</th>\n",
       "      <th>City</th>\n",
       "      <th>MBBS</th>\n",
       "      <th>BDS</th>\n",
       "      <th>BAMS</th>\n",
       "      <th>BHMS</th>\n",
       "      <th>MD - Dermatology</th>\n",
       "      <th>MS - ENT</th>\n",
       "      <th>Venereology &amp; Leprosy</th>\n",
       "      <th>MD - General Medicine</th>\n",
       "      <th>Diploma in Otorhinolaryngology (DLO)</th>\n",
       "      <th>MD - Homeopathy</th>\n",
       "    </tr>\n",
       "  </thead>\n",
       "  <tbody>\n",
       "    <tr>\n",
       "      <th>0</th>\n",
       "      <td>[BHMS,  MD - Homeopathy]</td>\n",
       "      <td>24</td>\n",
       "      <td>10</td>\n",
       "      <td>Kakkanad</td>\n",
       "      <td>Homeopath</td>\n",
       "      <td>100</td>\n",
       "      <td>Ernakulam</td>\n",
       "      <td>0</td>\n",
       "      <td>0</td>\n",
       "      <td>0</td>\n",
       "      <td>1</td>\n",
       "      <td>0</td>\n",
       "      <td>0</td>\n",
       "      <td>0</td>\n",
       "      <td>0</td>\n",
       "      <td>0</td>\n",
       "      <td>1</td>\n",
       "    </tr>\n",
       "    <tr>\n",
       "      <th>1</th>\n",
       "      <td>[BAMS,  MD - Ayurveda Medicine]</td>\n",
       "      <td>12</td>\n",
       "      <td>10</td>\n",
       "      <td>Whitefield</td>\n",
       "      <td>Ayurveda</td>\n",
       "      <td>350</td>\n",
       "      <td>Bangalore</td>\n",
       "      <td>0</td>\n",
       "      <td>0</td>\n",
       "      <td>1</td>\n",
       "      <td>0</td>\n",
       "      <td>0</td>\n",
       "      <td>0</td>\n",
       "      <td>0</td>\n",
       "      <td>0</td>\n",
       "      <td>0</td>\n",
       "      <td>0</td>\n",
       "    </tr>\n",
       "    <tr>\n",
       "      <th>2</th>\n",
       "      <td>[MBBS,  MS - Otorhinolaryngology]</td>\n",
       "      <td>9</td>\n",
       "      <td>1</td>\n",
       "      <td>Mathikere - BEL</td>\n",
       "      <td>ENT Specialist</td>\n",
       "      <td>300</td>\n",
       "      <td>Bangalore</td>\n",
       "      <td>1</td>\n",
       "      <td>0</td>\n",
       "      <td>0</td>\n",
       "      <td>0</td>\n",
       "      <td>0</td>\n",
       "      <td>0</td>\n",
       "      <td>0</td>\n",
       "      <td>0</td>\n",
       "      <td>0</td>\n",
       "      <td>0</td>\n",
       "    </tr>\n",
       "    <tr>\n",
       "      <th>3</th>\n",
       "      <td>[BSc - Zoology,  BAMS]</td>\n",
       "      <td>12</td>\n",
       "      <td>1</td>\n",
       "      <td>Bannerghatta Road</td>\n",
       "      <td>Ayurveda</td>\n",
       "      <td>250</td>\n",
       "      <td>Bangalore</td>\n",
       "      <td>0</td>\n",
       "      <td>0</td>\n",
       "      <td>1</td>\n",
       "      <td>0</td>\n",
       "      <td>0</td>\n",
       "      <td>0</td>\n",
       "      <td>0</td>\n",
       "      <td>0</td>\n",
       "      <td>0</td>\n",
       "      <td>0</td>\n",
       "    </tr>\n",
       "    <tr>\n",
       "      <th>4</th>\n",
       "      <td>[BAMS]</td>\n",
       "      <td>20</td>\n",
       "      <td>10</td>\n",
       "      <td>Keelkattalai</td>\n",
       "      <td>Ayurveda</td>\n",
       "      <td>250</td>\n",
       "      <td>Chennai</td>\n",
       "      <td>0</td>\n",
       "      <td>0</td>\n",
       "      <td>1</td>\n",
       "      <td>0</td>\n",
       "      <td>0</td>\n",
       "      <td>0</td>\n",
       "      <td>0</td>\n",
       "      <td>0</td>\n",
       "      <td>0</td>\n",
       "      <td>0</td>\n",
       "    </tr>\n",
       "  </tbody>\n",
       "</table>\n",
       "</div>"
      ],
      "text/plain": [
       "                       Qualification  Experience Rating              Place  \\\n",
       "0           [BHMS,  MD - Homeopathy]          24     10           Kakkanad   \n",
       "1    [BAMS,  MD - Ayurveda Medicine]          12     10         Whitefield   \n",
       "2  [MBBS,  MS - Otorhinolaryngology]           9      1    Mathikere - BEL   \n",
       "3             [BSc - Zoology,  BAMS]          12      1  Bannerghatta Road   \n",
       "4                             [BAMS]          20     10       Keelkattalai   \n",
       "\n",
       "          Profile  Fees        City  MBBS  BDS  BAMS  BHMS  MD - Dermatology  \\\n",
       "0       Homeopath   100   Ernakulam     0    0     0     1                 0   \n",
       "1        Ayurveda   350   Bangalore     0    0     1     0                 0   \n",
       "2  ENT Specialist   300   Bangalore     1    0     0     0                 0   \n",
       "3        Ayurveda   250   Bangalore     0    0     1     0                 0   \n",
       "4        Ayurveda   250     Chennai     0    0     1     0                 0   \n",
       "\n",
       "   MS - ENT  Venereology & Leprosy  MD - General Medicine  \\\n",
       "0         0                      0                      0   \n",
       "1         0                      0                      0   \n",
       "2         0                      0                      0   \n",
       "3         0                      0                      0   \n",
       "4         0                      0                      0   \n",
       "\n",
       "   Diploma in Otorhinolaryngology (DLO)  MD - Homeopathy  \n",
       "0                                     0                1  \n",
       "1                                     0                0  \n",
       "2                                     0                0  \n",
       "3                                     0                0  \n",
       "4                                     0                0  "
      ]
     },
     "execution_count": 163,
     "metadata": {},
     "output_type": "execute_result"
    }
   ],
   "source": [
    "df_train.head()"
   ]
  },
  {
   "cell_type": "code",
   "execution_count": 164,
   "metadata": {},
   "outputs": [],
   "source": [
    "#Let's drop the qualification column nowas it is of no use\n",
    "df_train.drop(\"Qualification\",axis=1,inplace=True)"
   ]
  },
  {
   "cell_type": "code",
   "execution_count": 165,
   "metadata": {},
   "outputs": [],
   "source": [
    "#Also, the place column is of no use either, so let's drop it as well\n",
    "df_train.drop(\"Place\",axis=1,inplace=True)"
   ]
  },
  {
   "cell_type": "markdown",
   "metadata": {},
   "source": [
    "## Test Data"
   ]
  },
  {
   "cell_type": "code",
   "execution_count": 166,
   "metadata": {},
   "outputs": [],
   "source": [
    "#Copying all the aforementioned codes and logics for the test data\n",
    "\n",
    "#Miscellaneous_Info is having a very high percentage of missing values. We can drop the column as imputing makes no sense here\n",
    "df_test.drop(\"Miscellaneous_Info\",axis=1,inplace=True)\n",
    "\n",
    "#Let us first convert rating into integer\n",
    "df_test['Rating'].fillna('-1%', inplace=True)\n",
    "\n",
    "#Removing the % symbol \n",
    "df_test['Rating']=df_test['Rating'].str.replace('[^.\\d]','')\n",
    "\n",
    "#Converting into int and creating bins in various categories\n",
    "df_test['Rating']=df_test['Rating'].astype(int)\n",
    "bins = [-5,0,10,20,30,40,50,60,70,80,90,100]\n",
    "labels = [i for i in range(11)]\n",
    "df_test[\"Rating\"] = pd.cut(df_test[\"Rating\"],bins=bins,labels=labels,include_lowest=True)\n",
    "\n",
    "#Now, we need to cure the experience column as well and need to have only the years over there\n",
    "df_test['Experience']=df_test['Experience'].str.replace('[^.\\d]','')\n",
    "df_test['Experience']=df_test['Experience'].astype(int)\n",
    "\n",
    "#Let's impute the missing values of Place feature with 'NA'\n",
    "df_test[\"Place\"].fillna(\"NA,NA\",inplace=True)\n",
    "\n",
    "#Now, let's seperate the city with the place\n",
    "df_test[\"Place\"] = df_test[\"Place\"].str.split(\",\")\n",
    "df_test[\"City\"] = df_test[\"Place\"].str[-1]\n",
    "df_test[\"Place\"] = df_test[\"Place\"].str[0]\n",
    "\n",
    "#Splitting Qualifications\n",
    "df_test[\"Qualification\"]=df_test[\"Qualification\"].str.split(\",\")\n",
    "Qualification ={}\n",
    "for q in df_test[\"Qualification\"].values:\n",
    "    for p in q:\n",
    "        p = p.strip()\n",
    "        if p in Qualification:\n",
    "            Qualification[p]+=1\n",
    "        else:\n",
    "            Qualification[p]=1\n",
    "\n",
    "freq_qual = sorted(Qualification.items(),key=lambda x:x[1],reverse=True)[:10]\n",
    "final_qual =[]\n",
    "for v in freq_qual:\n",
    "    final_qual.append(v[0])\n",
    "for title in final_qual:\n",
    "    df_test[title]=0\n",
    "    \n",
    "for x,y in zip(df_test[\"Qualification\"].values,np.array([idx for idx in range(len(df_test))])):\n",
    "    for q in x:\n",
    "        q = q.strip()\n",
    "        if q in final_qual:\n",
    "            df_test[q][y] = 1\n",
    "\n",
    "#Dropping the Qualification and Place columns\n",
    "df_test.drop(\"Qualification\",axis=1,inplace=True)\n",
    "df_test.drop(\"Place\",axis=1,inplace=True)\n"
   ]
  },
  {
   "cell_type": "code",
   "execution_count": 167,
   "metadata": {},
   "outputs": [
    {
     "data": {
      "text/html": [
       "<div>\n",
       "<style scoped>\n",
       "    .dataframe tbody tr th:only-of-type {\n",
       "        vertical-align: middle;\n",
       "    }\n",
       "\n",
       "    .dataframe tbody tr th {\n",
       "        vertical-align: top;\n",
       "    }\n",
       "\n",
       "    .dataframe thead th {\n",
       "        text-align: right;\n",
       "    }\n",
       "</style>\n",
       "<table border=\"1\" class=\"dataframe\">\n",
       "  <thead>\n",
       "    <tr style=\"text-align: right;\">\n",
       "      <th></th>\n",
       "      <th>Experience</th>\n",
       "      <th>Rating</th>\n",
       "      <th>Profile</th>\n",
       "      <th>City</th>\n",
       "      <th>MBBS</th>\n",
       "      <th>BDS</th>\n",
       "      <th>BHMS</th>\n",
       "      <th>BAMS</th>\n",
       "      <th>MD - Dermatology</th>\n",
       "      <th>MS - ENT</th>\n",
       "      <th>MD - General Medicine</th>\n",
       "      <th>Venereology &amp; Leprosy</th>\n",
       "      <th>Diploma in Otorhinolaryngology (DLO)</th>\n",
       "      <th>DDVL</th>\n",
       "    </tr>\n",
       "  </thead>\n",
       "  <tbody>\n",
       "    <tr>\n",
       "      <th>0</th>\n",
       "      <td>35</td>\n",
       "      <td>1</td>\n",
       "      <td>General Medicine</td>\n",
       "      <td>Mumbai</td>\n",
       "      <td>1</td>\n",
       "      <td>0</td>\n",
       "      <td>0</td>\n",
       "      <td>0</td>\n",
       "      <td>0</td>\n",
       "      <td>0</td>\n",
       "      <td>0</td>\n",
       "      <td>0</td>\n",
       "      <td>0</td>\n",
       "      <td>0</td>\n",
       "    </tr>\n",
       "    <tr>\n",
       "      <th>1</th>\n",
       "      <td>31</td>\n",
       "      <td>1</td>\n",
       "      <td>ENT Specialist</td>\n",
       "      <td>Hyderabad</td>\n",
       "      <td>1</td>\n",
       "      <td>0</td>\n",
       "      <td>0</td>\n",
       "      <td>0</td>\n",
       "      <td>0</td>\n",
       "      <td>0</td>\n",
       "      <td>0</td>\n",
       "      <td>0</td>\n",
       "      <td>1</td>\n",
       "      <td>0</td>\n",
       "    </tr>\n",
       "    <tr>\n",
       "      <th>2</th>\n",
       "      <td>40</td>\n",
       "      <td>7</td>\n",
       "      <td>Dermatologists</td>\n",
       "      <td>Chennai</td>\n",
       "      <td>1</td>\n",
       "      <td>0</td>\n",
       "      <td>0</td>\n",
       "      <td>0</td>\n",
       "      <td>0</td>\n",
       "      <td>0</td>\n",
       "      <td>0</td>\n",
       "      <td>0</td>\n",
       "      <td>0</td>\n",
       "      <td>1</td>\n",
       "    </tr>\n",
       "    <tr>\n",
       "      <th>3</th>\n",
       "      <td>0</td>\n",
       "      <td>1</td>\n",
       "      <td>Ayurveda</td>\n",
       "      <td>Delhi</td>\n",
       "      <td>0</td>\n",
       "      <td>0</td>\n",
       "      <td>0</td>\n",
       "      <td>1</td>\n",
       "      <td>0</td>\n",
       "      <td>0</td>\n",
       "      <td>0</td>\n",
       "      <td>0</td>\n",
       "      <td>0</td>\n",
       "      <td>0</td>\n",
       "    </tr>\n",
       "    <tr>\n",
       "      <th>4</th>\n",
       "      <td>16</td>\n",
       "      <td>10</td>\n",
       "      <td>Dentist</td>\n",
       "      <td>Bangalore</td>\n",
       "      <td>0</td>\n",
       "      <td>1</td>\n",
       "      <td>0</td>\n",
       "      <td>0</td>\n",
       "      <td>0</td>\n",
       "      <td>0</td>\n",
       "      <td>0</td>\n",
       "      <td>0</td>\n",
       "      <td>0</td>\n",
       "      <td>0</td>\n",
       "    </tr>\n",
       "  </tbody>\n",
       "</table>\n",
       "</div>"
      ],
      "text/plain": [
       "   Experience Rating           Profile        City  MBBS  BDS  BHMS  BAMS  \\\n",
       "0          35      1  General Medicine      Mumbai     1    0     0     0   \n",
       "1          31      1    ENT Specialist   Hyderabad     1    0     0     0   \n",
       "2          40      7    Dermatologists     Chennai     1    0     0     0   \n",
       "3           0      1          Ayurveda       Delhi     0    0     0     1   \n",
       "4          16     10           Dentist   Bangalore     0    1     0     0   \n",
       "\n",
       "   MD - Dermatology  MS - ENT  MD - General Medicine  Venereology & Leprosy  \\\n",
       "0                 0         0                      0                      0   \n",
       "1                 0         0                      0                      0   \n",
       "2                 0         0                      0                      0   \n",
       "3                 0         0                      0                      0   \n",
       "4                 0         0                      0                      0   \n",
       "\n",
       "   Diploma in Otorhinolaryngology (DLO)  DDVL  \n",
       "0                                     0     0  \n",
       "1                                     1     0  \n",
       "2                                     0     1  \n",
       "3                                     0     0  \n",
       "4                                     0     0  "
      ]
     },
     "execution_count": 167,
     "metadata": {},
     "output_type": "execute_result"
    }
   ],
   "source": [
    "#let's check the first few records of the test dataset\n",
    "df_test.head()"
   ]
  },
  {
   "cell_type": "markdown",
   "metadata": {},
   "source": [
    "## Univariate Analysis"
   ]
  },
  {
   "cell_type": "code",
   "execution_count": 168,
   "metadata": {},
   "outputs": [
    {
     "data": {
      "text/plain": [
       "0        0\n",
       "1     3303\n",
       "2        0\n",
       "3        0\n",
       "4        4\n",
       "5        3\n",
       "6       19\n",
       "7       32\n",
       "8       98\n",
       "9      280\n",
       "10    2222\n",
       "Name: Rating, dtype: int64"
      ]
     },
     "execution_count": 168,
     "metadata": {},
     "output_type": "execute_result"
    }
   ],
   "source": [
    "# Let us see how ratings are divided over the dataset\n",
    "df_train['Rating'].value_counts().sort_index()"
   ]
  },
  {
   "cell_type": "code",
   "execution_count": 169,
   "metadata": {},
   "outputs": [
    {
     "data": {
      "image/png": "[encoded data removed]",
      "text/plain": [
       "<Figure size 720x720 with 1 Axes>"
      ]
     },
     "metadata": {},
     "output_type": "display_data"
    }
   ],
   "source": [
    "sns.countplot(df_train['Rating'].sort_index())\n",
    "fig = plt.gcf()\n",
    "fig.set_size_inches(10,10)"
   ]
  },
  {
   "cell_type": "markdown",
   "metadata": {},
   "source": [
    "**For the majority, ratings are not available and hence 1 rating is the maximum. Other than that, we have the 10 rating as the second majority followed by 9, 8, 7 and 6.**"
   ]
  },
  {
   "cell_type": "code",
   "execution_count": 170,
   "metadata": {},
   "outputs": [
    {
     "data": {
      "text/plain": [
       " Bangalore             1258\n",
       " Mumbai                1219\n",
       " Delhi                 1185\n",
       " Hyderabad              951\n",
       " Chennai                855\n",
       " Coimbatore             228\n",
       " Ernakulam              153\n",
       " Thiruvananthapuram      86\n",
       "NA                       25\n",
       "e                         1\n",
       "Name: City, dtype: int64"
      ]
     },
     "execution_count": 170,
     "metadata": {},
     "output_type": "execute_result"
    },
    {
     "data": {
      "image/png": "[encoded data removed]",
      "text/plain": [
       "<Figure size 1080x1080 with 1 Axes>"
      ]
     },
     "metadata": {},
     "output_type": "display_data"
    }
   ],
   "source": [
    "#Now, let us see how much doctors belong to which city\n",
    "sns.countplot(df_train['City'])\n",
    "fig = plt.gcf()\n",
    "fig.set_size_inches(15,15)\n",
    "df_train['City'].value_counts()"
   ]
  },
  {
   "cell_type": "markdown",
   "metadata": {},
   "source": [
    "**In the above visual, we see that maximum doctors belong to Bangalore while minimum are from Thiruvananthapuram. Also, there is a stray value in the name of 'e'. We can replace it with NA.**"
   ]
  },
  {
   "cell_type": "code",
   "execution_count": 171,
   "metadata": {},
   "outputs": [],
   "source": [
    "df_train['City'].replace(to_replace='e', value='NA', inplace=True)"
   ]
  },
  {
   "cell_type": "code",
   "execution_count": 172,
   "metadata": {},
   "outputs": [
    {
     "data": {
      "text/plain": [
       " Bangalore             1258\n",
       " Mumbai                1219\n",
       " Delhi                 1185\n",
       " Hyderabad              951\n",
       " Chennai                855\n",
       " Coimbatore             228\n",
       " Ernakulam              153\n",
       " Thiruvananthapuram      86\n",
       "NA                       26\n",
       "Name: City, dtype: int64"
      ]
     },
     "execution_count": 172,
     "metadata": {},
     "output_type": "execute_result"
    }
   ],
   "source": [
    "#Let's Check our replacement\n",
    "df_train['City'].value_counts()"
   ]
  },
  {
   "cell_type": "code",
   "execution_count": 173,
   "metadata": {},
   "outputs": [
    {
     "data": {
      "text/plain": [
       "Dentist             1397\n",
       "General Medicine    1173\n",
       "Dermatologists      1034\n",
       "Homeopath            843\n",
       "Ayurveda             786\n",
       "ENT Specialist       728\n",
       "Name: Profile, dtype: int64"
      ]
     },
     "execution_count": 173,
     "metadata": {},
     "output_type": "execute_result"
    },
    {
     "data": {
      "image/png": "[encoded data removed]",
      "text/plain": [
       "<Figure size 720x720 with 1 Axes>"
      ]
     },
     "metadata": {},
     "output_type": "display_data"
    }
   ],
   "source": [
    "#let's count the profiles in our data\n",
    "sns.countplot(df_train['Profile'])\n",
    "fig = plt.gcf()\n",
    "fig.set_size_inches(10,10)\n",
    "df_train['Profile'].value_counts()"
   ]
  },
  {
   "cell_type": "markdown",
   "metadata": {},
   "source": [
    "## Bivariate Analysis"
   ]
  },
  {
   "cell_type": "code",
   "execution_count": 174,
   "metadata": {},
   "outputs": [
    {
     "data": {
      "text/plain": [
       "<matplotlib.axes._subplots.AxesSubplot at 0x188f5858288>"
      ]
     },
     "execution_count": 174,
     "metadata": {},
     "output_type": "execute_result"
    },
    {
     "data": {
      "image/png": "[encoded data removed]",
      "text/plain": [
       "<Figure size 1440x648 with 1 Axes>"
      ]
     },
     "metadata": {},
     "output_type": "display_data"
    }
   ],
   "source": [
    "#here, we can see which city is using which type of a doctor\n",
    "n=pd.crosstab(df_train['Profile'],df_train['City'])\n",
    "n.div(n.sum(1).astype(float), axis=0).plot(kind=\"bar\", figsize=(20,9))"
   ]
  },
  {
   "cell_type": "markdown",
   "metadata": {},
   "source": [
    "1. Ayurvedic doctors are needed maximum in bangalore while minimum in coimbatore.\n",
    "2. Dentists are needed maximum in Bangalore and minimum in Ernakulam.\n",
    "3. Dermatologists are needed maximum in Delhi. This can also mean that Delhiites suffer from skin problems the most(This can be a hypothesis).\n",
    "4. Also, Homeopathy is preferred by Delhiites more than any other place"
   ]
  },
  {
   "cell_type": "code",
   "execution_count": 175,
   "metadata": {},
   "outputs": [
    {
     "data": {
      "image/png": "[encoded data removed]",
      "text/plain": [
       "<Figure size 720x720 with 1 Axes>"
      ]
     },
     "metadata": {},
     "output_type": "display_data"
    }
   ],
   "source": [
    "sns.lineplot(x='Experience',y='Fees',data=df_train)\n",
    "fig = plt.gcf()\n",
    "fig.set_size_inches(10,10)"
   ]
  },
  {
   "cell_type": "markdown",
   "metadata": {},
   "source": [
    "**Average fees increased with experience and peak at approximately 27 years of experience, then, average fees decreased with further increasing number of experience.**"
   ]
  },
  {
   "cell_type": "markdown",
   "metadata": {},
   "source": [
    "## Summary Statistics"
   ]
  },
  {
   "cell_type": "code",
   "execution_count": 176,
   "metadata": {},
   "outputs": [
    {
     "data": {
      "text/html": [
       "<div>\n",
       "<style scoped>\n",
       "    .dataframe tbody tr th:only-of-type {\n",
       "        vertical-align: middle;\n",
       "    }\n",
       "\n",
       "    .dataframe tbody tr th {\n",
       "        vertical-align: top;\n",
       "    }\n",
       "\n",
       "    .dataframe thead th {\n",
       "        text-align: right;\n",
       "    }\n",
       "</style>\n",
       "<table border=\"1\" class=\"dataframe\">\n",
       "  <thead>\n",
       "    <tr style=\"text-align: right;\">\n",
       "      <th></th>\n",
       "      <th>count</th>\n",
       "      <th>mean</th>\n",
       "      <th>std</th>\n",
       "      <th>min</th>\n",
       "      <th>25%</th>\n",
       "      <th>50%</th>\n",
       "      <th>75%</th>\n",
       "      <th>max</th>\n",
       "    </tr>\n",
       "  </thead>\n",
       "  <tbody>\n",
       "    <tr>\n",
       "      <th>Experience</th>\n",
       "      <td>5961.0</td>\n",
       "      <td>17.303976</td>\n",
       "      <td>11.142798</td>\n",
       "      <td>0.0</td>\n",
       "      <td>9.0</td>\n",
       "      <td>14.0</td>\n",
       "      <td>23.0</td>\n",
       "      <td>66.0</td>\n",
       "    </tr>\n",
       "    <tr>\n",
       "      <th>Fees</th>\n",
       "      <td>5961.0</td>\n",
       "      <td>307.944640</td>\n",
       "      <td>190.920373</td>\n",
       "      <td>5.0</td>\n",
       "      <td>150.0</td>\n",
       "      <td>300.0</td>\n",
       "      <td>500.0</td>\n",
       "      <td>950.0</td>\n",
       "    </tr>\n",
       "    <tr>\n",
       "      <th>MBBS</th>\n",
       "      <td>5961.0</td>\n",
       "      <td>0.470559</td>\n",
       "      <td>0.499174</td>\n",
       "      <td>0.0</td>\n",
       "      <td>0.0</td>\n",
       "      <td>0.0</td>\n",
       "      <td>1.0</td>\n",
       "      <td>1.0</td>\n",
       "    </tr>\n",
       "    <tr>\n",
       "      <th>BDS</th>\n",
       "      <td>5961.0</td>\n",
       "      <td>0.228485</td>\n",
       "      <td>0.419892</td>\n",
       "      <td>0.0</td>\n",
       "      <td>0.0</td>\n",
       "      <td>0.0</td>\n",
       "      <td>0.0</td>\n",
       "      <td>1.0</td>\n",
       "    </tr>\n",
       "    <tr>\n",
       "      <th>BAMS</th>\n",
       "      <td>5961.0</td>\n",
       "      <td>0.127831</td>\n",
       "      <td>0.333929</td>\n",
       "      <td>0.0</td>\n",
       "      <td>0.0</td>\n",
       "      <td>0.0</td>\n",
       "      <td>0.0</td>\n",
       "      <td>1.0</td>\n",
       "    </tr>\n",
       "    <tr>\n",
       "      <th>BHMS</th>\n",
       "      <td>5961.0</td>\n",
       "      <td>0.125482</td>\n",
       "      <td>0.331293</td>\n",
       "      <td>0.0</td>\n",
       "      <td>0.0</td>\n",
       "      <td>0.0</td>\n",
       "      <td>0.0</td>\n",
       "      <td>1.0</td>\n",
       "    </tr>\n",
       "    <tr>\n",
       "      <th>MD - Dermatology</th>\n",
       "      <td>5961.0</td>\n",
       "      <td>0.101493</td>\n",
       "      <td>0.302006</td>\n",
       "      <td>0.0</td>\n",
       "      <td>0.0</td>\n",
       "      <td>0.0</td>\n",
       "      <td>0.0</td>\n",
       "      <td>1.0</td>\n",
       "    </tr>\n",
       "    <tr>\n",
       "      <th>MS - ENT</th>\n",
       "      <td>5961.0</td>\n",
       "      <td>0.068948</td>\n",
       "      <td>0.253387</td>\n",
       "      <td>0.0</td>\n",
       "      <td>0.0</td>\n",
       "      <td>0.0</td>\n",
       "      <td>0.0</td>\n",
       "      <td>1.0</td>\n",
       "    </tr>\n",
       "    <tr>\n",
       "      <th>Venereology &amp; Leprosy</th>\n",
       "      <td>5961.0</td>\n",
       "      <td>0.049153</td>\n",
       "      <td>0.216205</td>\n",
       "      <td>0.0</td>\n",
       "      <td>0.0</td>\n",
       "      <td>0.0</td>\n",
       "      <td>0.0</td>\n",
       "      <td>1.0</td>\n",
       "    </tr>\n",
       "    <tr>\n",
       "      <th>MD - General Medicine</th>\n",
       "      <td>5961.0</td>\n",
       "      <td>0.047811</td>\n",
       "      <td>0.213384</td>\n",
       "      <td>0.0</td>\n",
       "      <td>0.0</td>\n",
       "      <td>0.0</td>\n",
       "      <td>0.0</td>\n",
       "      <td>1.0</td>\n",
       "    </tr>\n",
       "    <tr>\n",
       "      <th>Diploma in Otorhinolaryngology (DLO)</th>\n",
       "      <td>5961.0</td>\n",
       "      <td>0.041772</td>\n",
       "      <td>0.200083</td>\n",
       "      <td>0.0</td>\n",
       "      <td>0.0</td>\n",
       "      <td>0.0</td>\n",
       "      <td>0.0</td>\n",
       "      <td>1.0</td>\n",
       "    </tr>\n",
       "    <tr>\n",
       "      <th>MD - Homeopathy</th>\n",
       "      <td>5961.0</td>\n",
       "      <td>0.030364</td>\n",
       "      <td>0.171601</td>\n",
       "      <td>0.0</td>\n",
       "      <td>0.0</td>\n",
       "      <td>0.0</td>\n",
       "      <td>0.0</td>\n",
       "      <td>1.0</td>\n",
       "    </tr>\n",
       "  </tbody>\n",
       "</table>\n",
       "</div>"
      ],
      "text/plain": [
       "                                       count        mean         std  min  \\\n",
       "Experience                            5961.0   17.303976   11.142798  0.0   \n",
       "Fees                                  5961.0  307.944640  190.920373  5.0   \n",
       "MBBS                                  5961.0    0.470559    0.499174  0.0   \n",
       "BDS                                   5961.0    0.228485    0.419892  0.0   \n",
       "BAMS                                  5961.0    0.127831    0.333929  0.0   \n",
       "BHMS                                  5961.0    0.125482    0.331293  0.0   \n",
       "MD - Dermatology                      5961.0    0.101493    0.302006  0.0   \n",
       "MS - ENT                              5961.0    0.068948    0.253387  0.0   \n",
       "Venereology & Leprosy                 5961.0    0.049153    0.216205  0.0   \n",
       "MD - General Medicine                 5961.0    0.047811    0.213384  0.0   \n",
       "Diploma in Otorhinolaryngology (DLO)  5961.0    0.041772    0.200083  0.0   \n",
       "MD - Homeopathy                       5961.0    0.030364    0.171601  0.0   \n",
       "\n",
       "                                        25%    50%    75%    max  \n",
       "Experience                              9.0   14.0   23.0   66.0  \n",
       "Fees                                  150.0  300.0  500.0  950.0  \n",
       "MBBS                                    0.0    0.0    1.0    1.0  \n",
       "BDS                                     0.0    0.0    0.0    1.0  \n",
       "BAMS                                    0.0    0.0    0.0    1.0  \n",
       "BHMS                                    0.0    0.0    0.0    1.0  \n",
       "MD - Dermatology                        0.0    0.0    0.0    1.0  \n",
       "MS - ENT                                0.0    0.0    0.0    1.0  \n",
       "Venereology & Leprosy                   0.0    0.0    0.0    1.0  \n",
       "MD - General Medicine                   0.0    0.0    0.0    1.0  \n",
       "Diploma in Otorhinolaryngology (DLO)    0.0    0.0    0.0    1.0  \n",
       "MD - Homeopathy                         0.0    0.0    0.0    1.0  "
      ]
     },
     "execution_count": 176,
     "metadata": {},
     "output_type": "execute_result"
    }
   ],
   "source": [
    "df_train.describe().transpose()"
   ]
  },
  {
   "cell_type": "markdown",
   "metadata": {},
   "source": [
    "1. Average experience of doctors is 17 years\n",
    "2. Average Fees charged is Rs 307.9\n",
    "3. Max experience in doctors is 66 years\n",
    "4. max fees charged is Rs 950 while Min fees charged is Rs 5."
   ]
  },
  {
   "cell_type": "code",
   "execution_count": 177,
   "metadata": {},
   "outputs": [
    {
     "data": {
      "text/plain": [
       "<matplotlib.axes._subplots.AxesSubplot at 0x188f4224c08>"
      ]
     },
     "execution_count": 177,
     "metadata": {},
     "output_type": "execute_result"
    },
    {
     "data": {
      "image/png": "[encoded data removed]",
      "text/plain": [
       "<Figure size 432x288 with 2 Axes>"
      ]
     },
     "metadata": {},
     "output_type": "display_data"
    }
   ],
   "source": [
    "#Correlation\n",
    "sns.heatmap(df_train.corr(), annot=True, fmt='.0%')"
   ]
  },
  {
   "cell_type": "markdown",
   "metadata": {},
   "source": [
    "### Removing Outliers"
   ]
  },
  {
   "cell_type": "code",
   "execution_count": 178,
   "metadata": {},
   "outputs": [
    {
     "data": {
      "text/plain": [
       "array([0.60097885, 0.47604029, 0.74529508, ..., 2.12675597, 0.20678551,\n",
       "       0.02728232])"
      ]
     },
     "execution_count": 178,
     "metadata": {},
     "output_type": "execute_result"
    }
   ],
   "source": [
    "#We only have one Numerical column and that is experience. We only need to remove the outliers from that\n",
    "from scipy.stats import zscore\n",
    "z=np.abs(zscore(df_train['Experience']))\n",
    "z"
   ]
  },
  {
   "cell_type": "code",
   "execution_count": 179,
   "metadata": {},
   "outputs": [
    {
     "name": "stdout",
     "output_type": "stream",
     "text": [
      "(array([ 105,  110,  183,  325,  372,  901, 1009, 1111, 1860, 1981, 2023,\n",
      "       2062, 2202, 2262, 2281, 2631, 3180, 3478, 3493, 3608, 3942, 3960,\n",
      "       4167, 4212, 4257, 4344, 4763, 4775, 5265, 5277, 5410, 5422, 5587,\n",
      "       5637, 5664, 5720, 5807, 5942], dtype=int64),)\n"
     ]
    }
   ],
   "source": [
    "threshold=3\n",
    "print(np.where(z>3))"
   ]
  },
  {
   "cell_type": "code",
   "execution_count": 180,
   "metadata": {},
   "outputs": [],
   "source": [
    "#Dropping all the rows with above indexes\n",
    "rows = df_train.index[[105,  110,  183,  325,  372,  901, 1009, 1111, 1860, 1981, 2023,\n",
    "       2062, 2202, 2262, 2281, 2631, 3180, 3478, 3493, 3608, 3942, 3960,\n",
    "       4167, 4212, 4257, 4344, 4763, 4775, 5265, 5277, 5410, 5422, 5587,\n",
    "       5637, 5664, 5720, 5807, 5942]]\n",
    "df_train.drop(rows, inplace=True)"
   ]
  },
  {
   "cell_type": "code",
   "execution_count": 181,
   "metadata": {},
   "outputs": [
    {
     "data": {
      "text/html": [
       "<div>\n",
       "<style scoped>\n",
       "    .dataframe tbody tr th:only-of-type {\n",
       "        vertical-align: middle;\n",
       "    }\n",
       "\n",
       "    .dataframe tbody tr th {\n",
       "        vertical-align: top;\n",
       "    }\n",
       "\n",
       "    .dataframe thead th {\n",
       "        text-align: right;\n",
       "    }\n",
       "</style>\n",
       "<table border=\"1\" class=\"dataframe\">\n",
       "  <thead>\n",
       "    <tr style=\"text-align: right;\">\n",
       "      <th></th>\n",
       "      <th>Experience</th>\n",
       "      <th>Rating</th>\n",
       "      <th>Profile</th>\n",
       "      <th>City</th>\n",
       "      <th>MBBS</th>\n",
       "      <th>BDS</th>\n",
       "      <th>BAMS</th>\n",
       "      <th>BHMS</th>\n",
       "      <th>MD - Dermatology</th>\n",
       "      <th>MS - ENT</th>\n",
       "      <th>Venereology &amp; Leprosy</th>\n",
       "      <th>MD - General Medicine</th>\n",
       "      <th>Diploma in Otorhinolaryngology (DLO)</th>\n",
       "      <th>MD - Homeopathy</th>\n",
       "    </tr>\n",
       "  </thead>\n",
       "  <tbody>\n",
       "    <tr>\n",
       "      <th>0</th>\n",
       "      <td>24</td>\n",
       "      <td>10</td>\n",
       "      <td>Homeopath</td>\n",
       "      <td>Ernakulam</td>\n",
       "      <td>0</td>\n",
       "      <td>0</td>\n",
       "      <td>0</td>\n",
       "      <td>1</td>\n",
       "      <td>0</td>\n",
       "      <td>0</td>\n",
       "      <td>0</td>\n",
       "      <td>0</td>\n",
       "      <td>0</td>\n",
       "      <td>1</td>\n",
       "    </tr>\n",
       "    <tr>\n",
       "      <th>1</th>\n",
       "      <td>12</td>\n",
       "      <td>10</td>\n",
       "      <td>Ayurveda</td>\n",
       "      <td>Bangalore</td>\n",
       "      <td>0</td>\n",
       "      <td>0</td>\n",
       "      <td>1</td>\n",
       "      <td>0</td>\n",
       "      <td>0</td>\n",
       "      <td>0</td>\n",
       "      <td>0</td>\n",
       "      <td>0</td>\n",
       "      <td>0</td>\n",
       "      <td>0</td>\n",
       "    </tr>\n",
       "    <tr>\n",
       "      <th>2</th>\n",
       "      <td>9</td>\n",
       "      <td>1</td>\n",
       "      <td>ENT Specialist</td>\n",
       "      <td>Bangalore</td>\n",
       "      <td>1</td>\n",
       "      <td>0</td>\n",
       "      <td>0</td>\n",
       "      <td>0</td>\n",
       "      <td>0</td>\n",
       "      <td>0</td>\n",
       "      <td>0</td>\n",
       "      <td>0</td>\n",
       "      <td>0</td>\n",
       "      <td>0</td>\n",
       "    </tr>\n",
       "    <tr>\n",
       "      <th>3</th>\n",
       "      <td>12</td>\n",
       "      <td>1</td>\n",
       "      <td>Ayurveda</td>\n",
       "      <td>Bangalore</td>\n",
       "      <td>0</td>\n",
       "      <td>0</td>\n",
       "      <td>1</td>\n",
       "      <td>0</td>\n",
       "      <td>0</td>\n",
       "      <td>0</td>\n",
       "      <td>0</td>\n",
       "      <td>0</td>\n",
       "      <td>0</td>\n",
       "      <td>0</td>\n",
       "    </tr>\n",
       "    <tr>\n",
       "      <th>4</th>\n",
       "      <td>20</td>\n",
       "      <td>10</td>\n",
       "      <td>Ayurveda</td>\n",
       "      <td>Chennai</td>\n",
       "      <td>0</td>\n",
       "      <td>0</td>\n",
       "      <td>1</td>\n",
       "      <td>0</td>\n",
       "      <td>0</td>\n",
       "      <td>0</td>\n",
       "      <td>0</td>\n",
       "      <td>0</td>\n",
       "      <td>0</td>\n",
       "      <td>0</td>\n",
       "    </tr>\n",
       "  </tbody>\n",
       "</table>\n",
       "</div>"
      ],
      "text/plain": [
       "   Experience Rating         Profile        City  MBBS  BDS  BAMS  BHMS  \\\n",
       "0          24     10       Homeopath   Ernakulam     0    0     0     1   \n",
       "1          12     10        Ayurveda   Bangalore     0    0     1     0   \n",
       "2           9      1  ENT Specialist   Bangalore     1    0     0     0   \n",
       "3          12      1        Ayurveda   Bangalore     0    0     1     0   \n",
       "4          20     10        Ayurveda     Chennai     0    0     1     0   \n",
       "\n",
       "   MD - Dermatology  MS - ENT  Venereology & Leprosy  MD - General Medicine  \\\n",
       "0                 0         0                      0                      0   \n",
       "1                 0         0                      0                      0   \n",
       "2                 0         0                      0                      0   \n",
       "3                 0         0                      0                      0   \n",
       "4                 0         0                      0                      0   \n",
       "\n",
       "   Diploma in Otorhinolaryngology (DLO)  MD - Homeopathy  \n",
       "0                                     0                1  \n",
       "1                                     0                0  \n",
       "2                                     0                0  \n",
       "3                                     0                0  \n",
       "4                                     0                0  "
      ]
     },
     "execution_count": 181,
     "metadata": {},
     "output_type": "execute_result"
    }
   ],
   "source": [
    "#Splitting the data into input and output variable\n",
    "x=df_train.drop(columns=['Fees'], axis=1)\n",
    "x.head()"
   ]
  },
  {
   "cell_type": "code",
   "execution_count": 182,
   "metadata": {},
   "outputs": [
    {
     "data": {
      "text/plain": [
       "0    100\n",
       "1    350\n",
       "2    300\n",
       "3    250\n",
       "4    250\n",
       "Name: Fees, dtype: int64"
      ]
     },
     "execution_count": 182,
     "metadata": {},
     "output_type": "execute_result"
    }
   ],
   "source": [
    "y=df_train['Fees']\n",
    "y.head()\n"
   ]
  },
  {
   "cell_type": "code",
   "execution_count": 183,
   "metadata": {},
   "outputs": [
    {
     "name": "stdout",
     "output_type": "stream",
     "text": [
      "(5923, 14) \t\t (5923,)\n"
     ]
    }
   ],
   "source": [
    "#Checking the shape of input and target variable\n",
    "print(x.shape,'\\t\\t',y.shape)"
   ]
  },
  {
   "cell_type": "code",
   "execution_count": 184,
   "metadata": {},
   "outputs": [],
   "source": [
    "# Now, we need to get dummies for the City and Profile columns\n",
    "x = pd.get_dummies(x,columns=[\"City\",\"Profile\"],prefix=[\"City\",\"Profile\"])"
   ]
  },
  {
   "cell_type": "code",
   "execution_count": 185,
   "metadata": {},
   "outputs": [
    {
     "name": "stdout",
     "output_type": "stream",
     "text": [
      "<class 'pandas.core.frame.DataFrame'>\n",
      "Int64Index: 5923 entries, 0 to 5960\n",
      "Data columns (total 27 columns):\n",
      " #   Column                                Non-Null Count  Dtype   \n",
      "---  ------                                --------------  -----   \n",
      " 0   Experience                            5923 non-null   int32   \n",
      " 1   Rating                                5923 non-null   category\n",
      " 2   MBBS                                  5923 non-null   int64   \n",
      " 3   BDS                                   5923 non-null   int64   \n",
      " 4   BAMS                                  5923 non-null   int64   \n",
      " 5   BHMS                                  5923 non-null   int64   \n",
      " 6   MD - Dermatology                      5923 non-null   int64   \n",
      " 7   MS - ENT                              5923 non-null   int64   \n",
      " 8   Venereology & Leprosy                 5923 non-null   int64   \n",
      " 9   MD - General Medicine                 5923 non-null   int64   \n",
      " 10  Diploma in Otorhinolaryngology (DLO)  5923 non-null   int64   \n",
      " 11  MD - Homeopathy                       5923 non-null   int64   \n",
      " 12  City_ Bangalore                       5923 non-null   uint8   \n",
      " 13  City_ Chennai                         5923 non-null   uint8   \n",
      " 14  City_ Coimbatore                      5923 non-null   uint8   \n",
      " 15  City_ Delhi                           5923 non-null   uint8   \n",
      " 16  City_ Ernakulam                       5923 non-null   uint8   \n",
      " 17  City_ Hyderabad                       5923 non-null   uint8   \n",
      " 18  City_ Mumbai                          5923 non-null   uint8   \n",
      " 19  City_ Thiruvananthapuram              5923 non-null   uint8   \n",
      " 20  City_NA                               5923 non-null   uint8   \n",
      " 21  Profile_Ayurveda                      5923 non-null   uint8   \n",
      " 22  Profile_Dentist                       5923 non-null   uint8   \n",
      " 23  Profile_Dermatologists                5923 non-null   uint8   \n",
      " 24  Profile_ENT Specialist                5923 non-null   uint8   \n",
      " 25  Profile_General Medicine              5923 non-null   uint8   \n",
      " 26  Profile_Homeopath                     5923 non-null   uint8   \n",
      "dtypes: category(1), int32(1), int64(10), uint8(15)\n",
      "memory usage: 625.1 KB\n"
     ]
    }
   ],
   "source": [
    "x.info()"
   ]
  },
  {
   "cell_type": "markdown",
   "metadata": {},
   "source": [
    "# Label Encoding of Rating and Qualifications\n",
    "from sklearn.preprocessing import LabelEncoder\n",
    "encoder = LabelEncoder()\n",
    "x['Rating'] = encoder.fit_transform(x['Rating'])\n"
   ]
  },
  {
   "cell_type": "code",
   "execution_count": 186,
   "metadata": {},
   "outputs": [],
   "source": [
    "#Splitting the data\n",
    "from sklearn.model_selection import train_test_split\n",
    "x_train, x_test, y_train, y_test= train_test_split(x,y,random_state=42,test_size=0.20)"
   ]
  },
  {
   "cell_type": "code",
   "execution_count": 187,
   "metadata": {},
   "outputs": [
    {
     "name": "stdout",
     "output_type": "stream",
     "text": [
      "(4738, 27) \t (1185, 27)\n"
     ]
    }
   ],
   "source": [
    "#Checking the shape\n",
    "print(x_train.shape,'\\t',x_test.shape)"
   ]
  },
  {
   "cell_type": "code",
   "execution_count": 188,
   "metadata": {},
   "outputs": [],
   "source": [
    "#Importing our models Library\n",
    "from sklearn.linear_model import LinearRegression, Lasso, Ridge, ElasticNet\n",
    "from sklearn.svm import SVR\n",
    "from sklearn.neighbors import KNeighborsRegressor\n",
    "from sklearn.tree import DecisionTreeRegressor\n",
    "\n",
    "#Importing Errors Metrics\n",
    "from sklearn.metrics import mean_absolute_error, mean_squared_error, r2_score"
   ]
  },
  {
   "cell_type": "code",
   "execution_count": 189,
   "metadata": {},
   "outputs": [],
   "source": [
    "#Importing Boosting models\n",
    "from sklearn.ensemble import RandomForestRegressor\n",
    "from sklearn.ensemble import AdaBoostRegressor\n",
    "from sklearn.ensemble import GradientBoostingRegressor"
   ]
  },
  {
   "cell_type": "code",
   "execution_count": 190,
   "metadata": {},
   "outputs": [
    {
     "name": "stdout",
     "output_type": "stream",
     "text": [
      "train_score of LinearRegression(copy_X=True, fit_intercept=True, n_jobs=None, normalize=False) is 0.18949781021266188\n",
      "Error_train:\n",
      "Mean absolute error_train:  136.82797378578687\n",
      "Mean squared error_train:  29860.90944540283\n",
      "Root mean squared error_train:  172.80309443237073\n",
      "r2 score_train:  0.18949781021266188\n",
      "***********************************************************************\n",
      "\n",
      "\n",
      "test_score of LinearRegression(copy_X=True, fit_intercept=True, n_jobs=None, normalize=False) is 0.14825444800120868\n",
      "Error_test:\n",
      "Mean absolute error_test:  135.8895746412683\n",
      "Mean squared error_test:  29818.113176422325\n",
      "Root mean squared error_test:  172.67922045348226\n",
      "r2 score_test:  0.14825444800120868\n",
      "***********************************************************************\n",
      "\n",
      "\n",
      "train_score of DecisionTreeRegressor(ccp_alpha=0.0, criterion='mse', max_depth=None,\n",
      "                      max_features=None, max_leaf_nodes=None,\n",
      "                      min_impurity_decrease=0.0, min_impurity_split=None,\n",
      "                      min_samples_leaf=1, min_samples_split=2,\n",
      "                      min_weight_fraction_leaf=0.0, presort='deprecated',\n",
      "                      random_state=None, splitter='best') is 0.7114229229433998\n",
      "Error_train:\n",
      "Mean absolute error_train:  60.11579939454569\n",
      "Mean squared error_train:  10631.894737097713\n",
      "Root mean squared error_train:  103.11107960397715\n",
      "r2 score_train:  0.7114229229433998\n",
      "***********************************************************************\n",
      "\n",
      "\n",
      "test_score of DecisionTreeRegressor(ccp_alpha=0.0, criterion='mse', max_depth=None,\n",
      "                      max_features=None, max_leaf_nodes=None,\n",
      "                      min_impurity_decrease=0.0, min_impurity_split=None,\n",
      "                      min_samples_leaf=1, min_samples_split=2,\n",
      "                      min_weight_fraction_leaf=0.0, presort='deprecated',\n",
      "                      random_state=None, splitter='best') is -0.38615211632110746\n",
      "Error_test:\n",
      "Mean absolute error_test:  161.81326303794657\n",
      "Mean squared error_test:  48526.74673463837\n",
      "Root mean squared error_test:  220.2878724184297\n",
      "r2 score_test:  -0.38615211632110746\n",
      "***********************************************************************\n",
      "\n",
      "\n",
      "train_score of KNeighborsRegressor(algorithm='auto', leaf_size=30, metric='minkowski',\n",
      "                    metric_params=None, n_jobs=None, n_neighbors=5, p=2,\n",
      "                    weights='uniform') is 0.35547916928883094\n",
      "Error_train:\n",
      "Mean absolute error_train:  118.1317855635289\n",
      "Mean squared error_train:  23745.744803714646\n",
      "Root mean squared error_train:  154.09654377601933\n",
      "r2 score_train:  0.35547916928883094\n",
      "***********************************************************************\n",
      "\n",
      "\n",
      "test_score of KNeighborsRegressor(algorithm='auto', leaf_size=30, metric='minkowski',\n",
      "                    metric_params=None, n_jobs=None, n_neighbors=5, p=2,\n",
      "                    weights='uniform') is 0.0013198112162622344\n",
      "Error_test:\n",
      "Mean absolute error_test:  146.6945147679325\n",
      "Mean squared error_test:  34962.03628691983\n",
      "Root mean squared error_test:  186.9813795192447\n",
      "r2 score_test:  0.0013198112162622344\n",
      "***********************************************************************\n",
      "\n",
      "\n",
      "train_score of SVR(C=1.0, cache_size=200, coef0=0.0, degree=3, epsilon=0.1, gamma='scale',\n",
      "    kernel='rbf', max_iter=-1, shrinking=True, tol=0.001, verbose=False) is -0.00031435619133768355\n",
      "Error_train:\n",
      "Mean absolute error_train:  152.16545410848843\n",
      "Mean squared error_train:  36854.060092056534\n",
      "Root mean squared error_train:  191.97411307792657\n",
      "r2 score_train:  -0.00031435619133768355\n",
      "***********************************************************************\n",
      "\n",
      "\n",
      "test_score of SVR(C=1.0, cache_size=200, coef0=0.0, degree=3, epsilon=0.1, gamma='scale',\n",
      "    kernel='rbf', max_iter=-1, shrinking=True, tol=0.001, verbose=False) is 0.00524347334875408\n",
      "Error_test:\n",
      "Mean absolute error_test:  147.55933402619078\n",
      "Mean squared error_test:  34824.67577912718\n",
      "Root mean squared error_test:  186.6137073720127\n",
      "r2 score_test:  0.00524347334875408\n",
      "***********************************************************************\n",
      "\n",
      "\n",
      "train_score of Lasso(alpha=1.0, copy_X=True, fit_intercept=True, max_iter=1000,\n",
      "      normalize=False, positive=False, precompute=False, random_state=None,\n",
      "      selection='cyclic', tol=0.0001, warm_start=False) is 0.17811258865244228\n",
      "Error_train:\n",
      "Mean absolute error_train:  138.73619059933722\n",
      "Mean squared error_train:  30280.369225165752\n",
      "Root mean squared error_train:  174.0125547917901\n",
      "r2 score_train:  0.17811258865244228\n",
      "***********************************************************************\n",
      "\n",
      "\n",
      "test_score of Lasso(alpha=1.0, copy_X=True, fit_intercept=True, max_iter=1000,\n",
      "      normalize=False, positive=False, precompute=False, random_state=None,\n",
      "      selection='cyclic', tol=0.0001, warm_start=False) is 0.13265938051262804\n",
      "Error_test:\n",
      "Mean absolute error_test:  138.24701016318443\n",
      "Mean squared error_test:  30364.069050541286\n",
      "Root mean squared error_test:  174.25288821291107\n",
      "r2 score_test:  0.13265938051262804\n",
      "***********************************************************************\n",
      "\n",
      "\n",
      "train_score of Ridge(alpha=1.0, copy_X=True, fit_intercept=True, max_iter=None,\n",
      "      normalize=False, random_state=None, solver='auto', tol=0.001) is 0.18948605959123432\n",
      "Error_train:\n",
      "Mean absolute error_train:  136.86243446457124\n",
      "Mean squared error_train:  29861.34236741932\n",
      "Root mean squared error_train:  172.80434707327046\n",
      "r2 score_train:  0.18948605959123432\n",
      "***********************************************************************\n",
      "\n",
      "\n",
      "test_score of Ridge(alpha=1.0, copy_X=True, fit_intercept=True, max_iter=None,\n",
      "      normalize=False, random_state=None, solver='auto', tol=0.001) is 0.14819131743277514\n",
      "Error_test:\n",
      "Mean absolute error_test:  135.91873738667903\n",
      "Mean squared error_test:  29820.323266548447\n",
      "Root mean squared error_test:  172.68561974451853\n",
      "r2 score_test:  0.14819131743277514\n",
      "***********************************************************************\n",
      "\n",
      "\n",
      "train_score of ElasticNet(alpha=1.0, copy_X=True, fit_intercept=True, l1_ratio=0.5,\n",
      "           max_iter=1000, normalize=False, positive=False, precompute=False,\n",
      "           random_state=None, selection='cyclic', tol=0.0001, warm_start=False) is 0.11685225283724208\n",
      "Error_train:\n",
      "Mean absolute error_train:  146.96087921555258\n",
      "Mean squared error_train:  32537.35182610436\n",
      "Root mean squared error_train:  180.38112935144952\n",
      "r2 score_train:  0.1168522528372421\n",
      "***********************************************************************\n",
      "\n",
      "\n",
      "test_score of ElasticNet(alpha=1.0, copy_X=True, fit_intercept=True, l1_ratio=0.5,\n",
      "           max_iter=1000, normalize=False, positive=False, precompute=False,\n",
      "           random_state=None, selection='cyclic', tol=0.0001, warm_start=False) is 0.09929360750817762\n",
      "Error_test:\n",
      "Mean absolute error_test:  144.02671008139242\n",
      "Mean squared error_test:  31532.146058200182\n",
      "Root mean squared error_test:  177.57293165964282\n",
      "r2 score_test:  0.09929360750817762\n",
      "***********************************************************************\n",
      "\n",
      "\n",
      "train_score of RandomForestRegressor(bootstrap=True, ccp_alpha=0.0, criterion='mse',\n",
      "                      max_depth=None, max_features='auto', max_leaf_nodes=None,\n",
      "                      max_samples=None, min_impurity_decrease=0.0,\n",
      "                      min_impurity_split=None, min_samples_leaf=1,\n",
      "                      min_samples_split=2, min_weight_fraction_leaf=0.0,\n",
      "                      n_estimators=100, n_jobs=None, oob_score=False,\n",
      "                      random_state=None, verbose=0, warm_start=False) is 0.6507943456353326\n",
      "Error_train:\n",
      "Mean absolute error_train:  82.42259754117451\n",
      "Mean squared error_train:  12865.601788863762\n",
      "Root mean squared error_train:  113.42663615246536\n",
      "r2 score_train:  0.6507943456353326\n",
      "***********************************************************************\n",
      "\n",
      "\n",
      "test_score of RandomForestRegressor(bootstrap=True, ccp_alpha=0.0, criterion='mse',\n",
      "                      max_depth=None, max_features='auto', max_leaf_nodes=None,\n",
      "                      max_samples=None, min_impurity_decrease=0.0,\n",
      "                      min_impurity_split=None, min_samples_leaf=1,\n",
      "                      min_samples_split=2, min_weight_fraction_leaf=0.0,\n",
      "                      n_estimators=100, n_jobs=None, oob_score=False,\n",
      "                      random_state=None, verbose=0, warm_start=False) is -0.037823028680908255\n",
      "Error_test:\n",
      "Mean absolute error_test:  145.88923527484678\n",
      "Mean squared error_test:  36332.35824206409\n",
      "Root mean squared error_test:  190.6104882792762\n",
      "r2 score_test:  -0.037823028680908255\n",
      "***********************************************************************\n",
      "\n",
      "\n",
      "train_score of AdaBoostRegressor(base_estimator=None, learning_rate=1.0, loss='linear',\n",
      "                  n_estimators=50, random_state=None) is 0.1496279476628256\n",
      "Error_train:\n",
      "Mean absolute error_train:  146.2549420833749\n",
      "Mean squared error_train:  31329.813996436427\n",
      "Root mean squared error_train:  177.0022994100258\n",
      "r2 score_train:  0.1496279476628256\n",
      "***********************************************************************\n",
      "\n",
      "\n",
      "test_score of AdaBoostRegressor(base_estimator=None, learning_rate=1.0, loss='linear',\n",
      "                  n_estimators=50, random_state=None) is 0.08132033096116142\n",
      "Error_test:\n",
      "Mean absolute error_test:  147.82096850805127\n",
      "Mean squared error_test:  32161.35884712805\n",
      "Root mean squared error_test:  179.3358827650731\n",
      "r2 score_test:  0.08132033096116142\n",
      "***********************************************************************\n",
      "\n",
      "\n",
      "train_score of GradientBoostingRegressor(alpha=0.9, ccp_alpha=0.0, criterion='friedman_mse',\n",
      "                          init=None, learning_rate=0.1, loss='ls', max_depth=3,\n",
      "                          max_features=None, max_leaf_nodes=None,\n",
      "                          min_impurity_decrease=0.0, min_impurity_split=None,\n",
      "                          min_samples_leaf=1, min_samples_split=2,\n",
      "                          min_weight_fraction_leaf=0.0, n_estimators=100,\n",
      "                          n_iter_no_change=None, presort='deprecated',\n",
      "                          random_state=None, subsample=1.0, tol=0.0001,\n",
      "                          validation_fraction=0.1, verbose=0, warm_start=False) is 0.24953077362662268\n",
      "Error_train:\n",
      "Mean absolute error_train:  130.64409409660186\n",
      "Mean squared error_train:  27649.146285683517\n",
      "Root mean squared error_train:  166.28032440936454\n",
      "r2 score_train:  0.24953077362662268\n",
      "***********************************************************************\n",
      "\n",
      "\n",
      "test_score of GradientBoostingRegressor(alpha=0.9, ccp_alpha=0.0, criterion='friedman_mse',\n",
      "                          init=None, learning_rate=0.1, loss='ls', max_depth=3,\n",
      "                          max_features=None, max_leaf_nodes=None,\n",
      "                          min_impurity_decrease=0.0, min_impurity_split=None,\n",
      "                          min_samples_leaf=1, min_samples_split=2,\n",
      "                          min_weight_fraction_leaf=0.0, n_estimators=100,\n",
      "                          n_iter_no_change=None, presort='deprecated',\n",
      "                          random_state=None, subsample=1.0, tol=0.0001,\n",
      "                          validation_fraction=0.1, verbose=0, warm_start=False) is 0.1621045697715795\n",
      "Error_test:\n",
      "Mean absolute error_test:  135.23616544485498\n",
      "Mean squared error_test:  29333.244781762674\n",
      "Root mean squared error_test:  171.26950920044897\n",
      "r2 score_test:  0.1621045697715795\n",
      "***********************************************************************\n",
      "\n",
      "\n"
     ]
    }
   ],
   "source": [
    "#Using algorithms via for loop\n",
    "import warnings\n",
    "warnings.filterwarnings('ignore')\n",
    "\n",
    "#RMSE Scores (Train & Test)\n",
    "model=[LinearRegression(),DecisionTreeRegressor(),KNeighborsRegressor(),SVR(), Lasso(), Ridge(), ElasticNet(), RandomForestRegressor(), AdaBoostRegressor(), GradientBoostingRegressor()]\n",
    "for m in model:\n",
    "    m.fit(x_train,y_train)\n",
    "    print('train_score of',m,'is',m.score(x_train,y_train))\n",
    "    pred_train=m.predict(x_train)\n",
    "    pred_test=m.predict(x_test)\n",
    "    print('Error_train:')\n",
    "    print('Mean absolute error_train: ',mean_absolute_error(y_train,pred_train))\n",
    "    print('Mean squared error_train: ',mean_squared_error(y_train,pred_train))\n",
    "    print('Root mean squared error_train: ',np.sqrt(mean_squared_error(y_train,pred_train)))\n",
    "    print('r2 score_train: ',r2_score(y_train,pred_train))\n",
    "    print('***********************************************************************')\n",
    "    print('\\n')\n",
    "    print('test_score of',m,'is',m.score(x_test,y_test))\n",
    "    print('Error_test:')\n",
    "    print('Mean absolute error_test: ',mean_absolute_error(y_test,pred_test))\n",
    "    print('Mean squared error_test: ',mean_squared_error(y_test,pred_test))\n",
    "    print('Root mean squared error_test: ',np.sqrt(mean_squared_error(y_test,pred_test)))\n",
    "    print('r2 score_test: ',r2_score(y_test,pred_test))\n",
    "    print('***********************************************************************')\n",
    "    print('\\n')"
   ]
  },
  {
   "cell_type": "code",
   "execution_count": 191,
   "metadata": {},
   "outputs": [
    {
     "name": "stdout",
     "output_type": "stream",
     "text": [
      "train_data_score of LinearRegression(copy_X=True, fit_intercept=True, n_jobs=None, normalize=False) is: \n",
      "Score:  [0.16385548 0.16656698 0.15363122 0.21089449 0.2141665  0.16418449\n",
      " 0.19650162]\n",
      "Mean Score: 0.18140011269860756\n",
      "Standard Deviation 0.02319770737932646\n",
      "**********************************************************\n",
      "test_data_score of LinearRegression(copy_X=True, fit_intercept=True, n_jobs=None, normalize=False) is: \n",
      "Score:  [0.17364503 0.11716452 0.07595194 0.18193549 0.12383948 0.14223614\n",
      " 0.15418437]\n",
      "Mean Score: 0.1384224238766986\n",
      "Standard Deviation 0.03373028546640439\n",
      "**********************************************************\n",
      "\n",
      "\n",
      "train_data_score of DecisionTreeRegressor(ccp_alpha=0.0, criterion='mse', max_depth=None,\n",
      "                      max_features=None, max_leaf_nodes=None,\n",
      "                      min_impurity_decrease=0.0, min_impurity_split=None,\n",
      "                      min_samples_leaf=1, min_samples_split=2,\n",
      "                      min_weight_fraction_leaf=0.0, presort='deprecated',\n",
      "                      random_state=None, splitter='best') is: \n",
      "Score:  [-0.38330331 -0.35779556 -0.36938152 -0.2966494  -0.29310544 -0.30485293\n",
      " -0.3982957 ]\n",
      "Mean Score: -0.34334055181022777\n",
      "Standard Deviation 0.04086405308628486\n",
      "**********************************************************\n",
      "test_data_score of DecisionTreeRegressor(ccp_alpha=0.0, criterion='mse', max_depth=None,\n",
      "                      max_features=None, max_leaf_nodes=None,\n",
      "                      min_impurity_decrease=0.0, min_impurity_split=None,\n",
      "                      min_samples_leaf=1, min_samples_split=2,\n",
      "                      min_weight_fraction_leaf=0.0, presort='deprecated',\n",
      "                      random_state=None, splitter='best') is: \n",
      "Score:  [-0.72820708 -0.91782674 -0.62919395 -0.765673   -0.64496105 -0.41432013\n",
      " -0.72301624]\n",
      "Mean Score: -0.6890283124901229\n",
      "Standard Deviation 0.14237773993253652\n",
      "**********************************************************\n",
      "\n",
      "\n",
      "train_data_score of KNeighborsRegressor(algorithm='auto', leaf_size=30, metric='minkowski',\n",
      "                    metric_params=None, n_jobs=None, n_neighbors=5, p=2,\n",
      "                    weights='uniform') is: \n",
      "Score:  [-0.02323578  0.04759932  0.03196319  0.0347903   0.10532843  0.05505908\n",
      "  0.03663481]\n",
      "Mean Score: 0.04116276474355919\n",
      "Standard Deviation 0.035141926167278265\n",
      "**********************************************************\n",
      "test_data_score of KNeighborsRegressor(algorithm='auto', leaf_size=30, metric='minkowski',\n",
      "                    metric_params=None, n_jobs=None, n_neighbors=5, p=2,\n",
      "                    weights='uniform') is: \n",
      "Score:  [-0.06160473  0.00922691 -0.08408594 -0.01103949 -0.0218871   0.01892808\n",
      "  0.09498381]\n",
      "Mean Score: -0.007925493469955271\n",
      "Standard Deviation 0.054105903714070674\n",
      "**********************************************************\n",
      "\n",
      "\n",
      "train_data_score of SVR(C=1.0, cache_size=200, coef0=0.0, degree=3, epsilon=0.1, gamma='scale',\n",
      "    kernel='rbf', max_iter=-1, shrinking=True, tol=0.001, verbose=False) is: \n",
      "Score:  [-0.03324068  0.00847187  0.00025321  0.00498465 -0.02123573  0.02703384\n",
      " -0.00041754]\n",
      "Mean Score: -0.002021481784772889\n",
      "Standard Deviation 0.018341911191431123\n",
      "**********************************************************\n",
      "test_data_score of SVR(C=1.0, cache_size=200, coef0=0.0, degree=3, epsilon=0.1, gamma='scale',\n",
      "    kernel='rbf', max_iter=-1, shrinking=True, tol=0.001, verbose=False) is: \n",
      "Score:  [-0.07141186 -0.01418581 -0.01028462  0.04614233  0.02266709 -0.04458093\n",
      "  0.01046593]\n",
      "Mean Score: -0.008741125964591121\n",
      "Standard Deviation 0.037055401939651025\n",
      "**********************************************************\n",
      "\n",
      "\n",
      "train_data_score of Lasso(alpha=1.0, copy_X=True, fit_intercept=True, max_iter=1000,\n",
      "      normalize=False, positive=False, precompute=False, random_state=None,\n",
      "      selection='cyclic', tol=0.0001, warm_start=False) is: \n",
      "Score:  [0.15985971 0.15480448 0.14549411 0.20189317 0.19953333 0.15684303\n",
      " 0.18521936]\n",
      "Mean Score: 0.17194959853084932\n",
      "Standard Deviation 0.021386872118101537\n",
      "**********************************************************\n",
      "test_data_score of Lasso(alpha=1.0, copy_X=True, fit_intercept=True, max_iter=1000,\n",
      "      normalize=False, positive=False, precompute=False, random_state=None,\n",
      "      selection='cyclic', tol=0.0001, warm_start=False) is: \n",
      "Score:  [0.14619257 0.14066381 0.06071094 0.18534335 0.14521545 0.12037898\n",
      " 0.15114879]\n",
      "Mean Score: 0.1356648421508697\n",
      "Standard Deviation 0.03542898262677613\n",
      "**********************************************************\n",
      "\n",
      "\n",
      "train_data_score of Ridge(alpha=1.0, copy_X=True, fit_intercept=True, max_iter=None,\n",
      "      normalize=False, random_state=None, solver='auto', tol=0.001) is: \n",
      "Score:  [0.16416721 0.1668339  0.15358714 0.21097148 0.21416972 0.1640192\n",
      " 0.19660685]\n",
      "Mean Score: 0.1814793575547032\n",
      "Standard Deviation 0.023189649040900092\n",
      "**********************************************************\n",
      "test_data_score of Ridge(alpha=1.0, copy_X=True, fit_intercept=True, max_iter=None,\n",
      "      normalize=False, random_state=None, solver='auto', tol=0.001) is: \n",
      "Score:  [0.17196624 0.12383674 0.07647887 0.1855722  0.12860182 0.13967414\n",
      " 0.15566684]\n",
      "Mean Score: 0.14025669256124998\n",
      "Standard Deviation 0.03331637043370593\n",
      "**********************************************************\n",
      "\n",
      "\n",
      "train_data_score of ElasticNet(alpha=1.0, copy_X=True, fit_intercept=True, l1_ratio=0.5,\n",
      "           max_iter=1000, normalize=False, positive=False, precompute=False,\n",
      "           random_state=None, selection='cyclic', tol=0.0001, warm_start=False) is: \n",
      "Score:  [0.10875439 0.10249375 0.10676757 0.13155272 0.12268644 0.10914789\n",
      " 0.11738689]\n",
      "Mean Score: 0.1141128044771524\n",
      "Standard Deviation 0.009492067728715414\n",
      "**********************************************************\n",
      "test_data_score of ElasticNet(alpha=1.0, copy_X=True, fit_intercept=True, l1_ratio=0.5,\n",
      "           max_iter=1000, normalize=False, positive=False, precompute=False,\n",
      "           random_state=None, selection='cyclic', tol=0.0001, warm_start=False) is: \n",
      "Score:  [0.09074265 0.09472331 0.03212688 0.12966327 0.10688013 0.05565878\n",
      " 0.09983315]\n",
      "Mean Score: 0.0870897388013705\n",
      "Standard Deviation 0.030347970949667537\n",
      "**********************************************************\n",
      "\n",
      "\n",
      "train_data_score of RandomForestRegressor(bootstrap=True, ccp_alpha=0.0, criterion='mse',\n",
      "                      max_depth=None, max_features='auto', max_leaf_nodes=None,\n",
      "                      max_samples=None, min_impurity_decrease=0.0,\n",
      "                      min_impurity_split=None, min_samples_leaf=1,\n",
      "                      min_samples_split=2, min_weight_fraction_leaf=0.0,\n",
      "                      n_estimators=100, n_jobs=None, oob_score=False,\n",
      "                      random_state=None, verbose=0, warm_start=False) is: \n",
      "Score:  [-0.03810195  0.00360429  0.0009915   0.06643733  0.04736954  0.06968246\n",
      " -0.00040731]\n",
      "Mean Score: 0.021367978486023183\n",
      "Standard Deviation 0.037384493801070805\n",
      "**********************************************************\n",
      "test_data_score of RandomForestRegressor(bootstrap=True, ccp_alpha=0.0, criterion='mse',\n",
      "                      max_depth=None, max_features='auto', max_leaf_nodes=None,\n",
      "                      max_samples=None, min_impurity_decrease=0.0,\n",
      "                      min_impurity_split=None, min_samples_leaf=1,\n",
      "                      min_samples_split=2, min_weight_fraction_leaf=0.0,\n",
      "                      n_estimators=100, n_jobs=None, oob_score=False,\n",
      "                      random_state=None, verbose=0, warm_start=False) is: \n",
      "Score:  [-0.0088766  -0.10375756 -0.05296284  0.00887675 -0.13083969  0.05683821\n",
      " -0.03979772]\n",
      "Mean Score: -0.038645635292121186\n",
      "Standard Deviation 0.060008752022870725\n",
      "**********************************************************\n",
      "\n",
      "\n",
      "train_data_score of AdaBoostRegressor(base_estimator=None, learning_rate=1.0, loss='linear',\n",
      "                  n_estimators=50, random_state=None) is: \n",
      "Score:  [0.14793122 0.11050007 0.10583325 0.1663755  0.18095311 0.10104318\n",
      " 0.14080201]\n",
      "Mean Score: 0.13620547835348668\n",
      "Standard Deviation 0.029009428323842176\n",
      "**********************************************************\n",
      "test_data_score of AdaBoostRegressor(base_estimator=None, learning_rate=1.0, loss='linear',\n",
      "                  n_estimators=50, random_state=None) is: \n",
      "Score:  [0.12287722 0.13142849 0.01740963 0.07617335 0.06951955 0.13089928\n",
      " 0.06969664]\n",
      "Mean Score: 0.08828630914178784\n",
      "Standard Deviation 0.0391729463023745\n",
      "**********************************************************\n",
      "\n",
      "\n",
      "train_data_score of GradientBoostingRegressor(alpha=0.9, ccp_alpha=0.0, criterion='friedman_mse',\n",
      "                          init=None, learning_rate=0.1, loss='ls', max_depth=3,\n",
      "                          max_features=None, max_leaf_nodes=None,\n",
      "                          min_impurity_decrease=0.0, min_impurity_split=None,\n",
      "                          min_samples_leaf=1, min_samples_split=2,\n",
      "                          min_weight_fraction_leaf=0.0, n_estimators=100,\n",
      "                          n_iter_no_change=None, presort='deprecated',\n",
      "                          random_state=None, subsample=1.0, tol=0.0001,\n",
      "                          validation_fraction=0.1, verbose=0, warm_start=False) is: \n",
      "Score:  [0.17566759 0.1846088  0.18792381 0.2296121  0.24118163 0.17328563\n",
      " 0.22473769]\n",
      "Mean Score: 0.20243103429730316\n",
      "Standard Deviation 0.026272836728909708\n",
      "**********************************************************\n",
      "test_data_score of GradientBoostingRegressor(alpha=0.9, ccp_alpha=0.0, criterion='friedman_mse',\n",
      "                          init=None, learning_rate=0.1, loss='ls', max_depth=3,\n",
      "                          max_features=None, max_leaf_nodes=None,\n",
      "                          min_impurity_decrease=0.0, min_impurity_split=None,\n",
      "                          min_samples_leaf=1, min_samples_split=2,\n",
      "                          min_weight_fraction_leaf=0.0, n_estimators=100,\n",
      "                          n_iter_no_change=None, presort='deprecated',\n",
      "                          random_state=None, subsample=1.0, tol=0.0001,\n",
      "                          validation_fraction=0.1, verbose=0, warm_start=False) is: \n",
      "Score:  [0.13725176 0.12199301 0.05394397 0.18035608 0.10084565 0.09604966\n",
      " 0.15168614]\n",
      "Mean Score: 0.12030375306660109\n",
      "Standard Deviation 0.0382692043766722\n",
      "**********************************************************\n",
      "\n",
      "\n"
     ]
    }
   ],
   "source": [
    "#Cross validate the models Code_r2 as scoring parameter:\n",
    "from sklearn.model_selection import cross_val_score\n",
    "model=[LinearRegression(),DecisionTreeRegressor(),KNeighborsRegressor(),SVR(), Lasso(), Ridge(), ElasticNet(), RandomForestRegressor(), AdaBoostRegressor(), GradientBoostingRegressor()]\n",
    "for m in model:\n",
    "    train_data_score=cross_val_score(m,x_train,y_train,cv=7,scoring='r2')\n",
    "    test_data_score=cross_val_score(m,x_test,y_test,cv=7,scoring='r2')\n",
    "    print('train_data_score of',m,'is: ')\n",
    "    print('Score: ',train_data_score)\n",
    "    print('Mean Score:',train_data_score.mean())\n",
    "    print('Standard Deviation',train_data_score.std())\n",
    "    print('**********************************************************')\n",
    "    print('test_data_score of',m,'is: ')\n",
    "    print('Score: ',test_data_score)\n",
    "    print('Mean Score:',test_data_score.mean())\n",
    "    print('Standard Deviation',test_data_score.std())\n",
    "    print('**********************************************************')\n",
    "    print('\\n')"
   ]
  },
  {
   "cell_type": "code",
   "execution_count": 195,
   "metadata": {},
   "outputs": [],
   "source": [
    "#Due to unknown reasons, the model score is not good"
   ]
  },
  {
   "cell_type": "code",
   "execution_count": 196,
   "metadata": {},
   "outputs": [
    {
     "data": {
      "text/plain": [
       "['Doc.obj']"
      ]
     },
     "execution_count": 196,
     "metadata": {},
     "output_type": "execute_result"
    }
   ],
   "source": [
    "#Saving the model\n",
    "from sklearn.externals import joblib\n",
    "joblib.dump(Ridge(),'Doc.obj')"
   ]
  },
  {
   "cell_type": "code",
   "execution_count": null,
   "metadata": {},
   "outputs": [],
   "source": []
  }
 ],
 "metadata": {
  "kernelspec": {
   "display_name": "Python 3",
   "language": "python",
   "name": "python3"
  },
  "language_info": {
   "codemirror_mode": {
    "name": "ipython",
    "version": 3
   },
   "file_extension": ".py",
   "mimetype": "text/x-python",
   "name": "python",
   "nbconvert_exporter": "python",
   "pygments_lexer": "ipython3",
   "version": "3.7.6"
  }
 },
 "nbformat": 4,
 "nbformat_minor": 4
}
